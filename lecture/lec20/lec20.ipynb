{
 "cells": [
  {
   "cell_type": "markdown",
   "id": "a750c9e0",
   "metadata": {
    "tags": []
   },
   "source": [
    "# 💽 Lecture 20 – Data 100, Summer 2025\n",
    "\n",
    "Data 100, Summer 2025\n",
    "\n",
    "[Acknowledgments Page](https://ds100.org/su25/acks/)"
   ]
  },
  {
   "cell_type": "markdown",
   "id": "851dbb4e-77e5-456e-903f-d8df3aea6707",
   "metadata": {},
   "source": [
    "## Starting Up SQL"
   ]
  },
  {
   "cell_type": "markdown",
   "id": "863c24e4-6422-47c8-a194-575b7b7488ae",
   "metadata": {},
   "source": [
    "Before we look at SQL syntax in detail, let's first get ourselves set up to run SQL queries in Jupyter."
   ]
  },
  {
   "cell_type": "markdown",
   "id": "d4c43259-2e11-4cb3-b2ed-04f2a4148d60",
   "metadata": {},
   "source": [
    "### Approach #1: SQL Magic"
   ]
  },
  {
   "cell_type": "markdown",
   "id": "f699330c-aee9-4036-bc7d-0fe329410f7b",
   "metadata": {},
   "source": [
    "**1. Load the `sql` Module.** \n",
    "\n",
    "Load `%%sql` cell magic to allow the Jupyter notebook to understand SQL.\n",
    "\n",
    "> FYI: `%sql` is called line magic because it only applies to one line. We will see shortly that `%%sql` applies to an entire cell. So, it's called cell magic."
   ]
  },
  {
   "cell_type": "code",
   "execution_count": null,
   "id": "d809a9ab-fe04-4e65-99b9-bd1e0c6a0daf",
   "metadata": {},
   "outputs": [],
   "source": [
    "%load_ext sql"
   ]
  },
  {
   "cell_type": "markdown",
   "id": "b155e056-d307-4f69-8083-dee31155224e",
   "metadata": {},
   "source": [
    "**2. Connect to a database.**  \n",
    "\n",
    "Here, we connect to the SQLite database `basic_examples.db` and duckdb database `example_duck.db`."
   ]
  },
  {
   "cell_type": "code",
   "execution_count": null,
   "id": "b2bc260a-13c7-496d-9577-bd7575a030fc",
   "metadata": {},
   "outputs": [],
   "source": [
    "%sql sqlite:///data/basic_examples.db --alias sqlite_ex"
   ]
  },
  {
   "cell_type": "code",
   "execution_count": null,
   "id": "480982be-9b63-44f4-8ca2-e3b29cd04877",
   "metadata": {},
   "outputs": [],
   "source": [
    "%sql duckdb:///data/example_duck.db --alias duckdb_ex"
   ]
  },
  {
   "cell_type": "markdown",
   "id": "8c66752c-1a7c-4e8a-977e-95e27896a057",
   "metadata": {},
   "source": [
    "If you were connecting to an \"enterprise data platform\"\n",
    "\n",
    "```python\n",
    "from sqlalchemy import create_engine\n",
    "\n",
    "snow_engine = create_engine(\n",
    "    f\"snowflake://{user}:{password}@{account_identifier}\")\n",
    "%sql snow_engine --alias snow\n",
    "\n",
    "db_engine = create_engine(\n",
    "  url = f\"databricks://token:{access_token}@{server_hostname}?\" +\n",
    "        f\"http_path={http_path}&catalog={catalog}&schema={schema}\"\n",
    ")\n",
    "%sql db_engine --alias db\n",
    "```"
   ]
  },
  {
   "cell_type": "markdown",
   "id": "1b9a53ac-58d6-439f-a33e-926e15144e97",
   "metadata": {},
   "source": [
    "<br/>\n",
    "\n",
    "**3. Run a simple SQL query.** \n",
    "\n",
    "`%sql` parses only the immmediate line as a SQL command."
   ]
  },
  {
   "cell_type": "code",
   "execution_count": null,
   "id": "c2cdb41a-e846-48d7-ae4a-11052fd00c26",
   "metadata": {},
   "outputs": [],
   "source": [
    "%sql SELECT * FROM Dragon;"
   ]
  },
  {
   "cell_type": "markdown",
   "id": "66a103f2-6a8b-40c2-ba11-3c287f8bcb6f",
   "metadata": {},
   "source": [
    "The `%%sql` command, on the other hand, lets Jupyter parse the rest of the lines (the entire code block) as a SQL command."
   ]
  },
  {
   "cell_type": "code",
   "execution_count": null,
   "id": "8c172229-1ae6-408a-80b6-ef7985fbe386",
   "metadata": {},
   "outputs": [],
   "source": [
    "%%sql\n",
    "SELECT * FROM Dragon;"
   ]
  },
  {
   "cell_type": "markdown",
   "id": "3e2fbecc-ccf6-4807-b810-7de159a111a1",
   "metadata": {},
   "source": [
    "Simple query, this time on two different lines."
   ]
  },
  {
   "cell_type": "code",
   "execution_count": null,
   "id": "4cbb0a40-63e7-46aa-a65f-a212e1a7858a",
   "metadata": {},
   "outputs": [],
   "source": [
    "%%sql\n",
    "SELECT *\n",
    "FROM Dragon;"
   ]
  },
  {
   "cell_type": "markdown",
   "id": "4f6a115d-5d45-48bd-89ee-ff40ea299878",
   "metadata": {},
   "source": [
    "#### Storing one-line `%sql` queries\n",
    "\n",
    "For simple one-line queries, you can use IPython's ability to store the result of a magic command like `%sql` as if it were any other Python statement, and save the output to a variable:"
   ]
  },
  {
   "cell_type": "code",
   "execution_count": null,
   "id": "ab49b102-b47b-4304-b131-169ddb5c8d9d",
   "metadata": {},
   "outputs": [],
   "source": [
    "dragon_table = %sql SELECT * FROM Dragon\n",
    "dragon_table"
   ]
  },
  {
   "cell_type": "markdown",
   "id": "655d836f-007c-4ea4-9860-a29ced8bb947",
   "metadata": {},
   "source": [
    "As noted above, the result of the query is a Python variable of type `ResultSet`, more specifically:"
   ]
  },
  {
   "cell_type": "code",
   "execution_count": null,
   "id": "bb205d1e-3456-458b-ba1d-04166dd355f7",
   "metadata": {},
   "outputs": [],
   "source": [
    "type(dragon_table)"
   ]
  },
  {
   "cell_type": "markdown",
   "id": "8b2e03dd-b54c-411b-b72d-679e4cc3dcc4",
   "metadata": {},
   "source": [
    "You need to manually convert it to a Pandas `DataFrame` if you want to do pandas-things with its content:"
   ]
  },
  {
   "cell_type": "code",
   "execution_count": null,
   "id": "3c35735a-e30e-47a2-acfe-5486550a52bf",
   "metadata": {},
   "outputs": [],
   "source": [
    "dragon_df = dragon_table.DataFrame()\n",
    "dragon_df"
   ]
  },
  {
   "cell_type": "markdown",
   "id": "c278afd7-1c61-4928-b316-62b4cdc0c21e",
   "metadata": {},
   "source": [
    "You can configure `jupysql` to _automatically_ convert all outputs to Pandas DataFrames. This can be handy if you intend all your Python-side work to be done with Pandas, as it saves you from manually having to call `.DataFrame()` first on all outputs. \n",
    "\n",
    "- On the other hand, you don't get access to the original SQL `ResultSet` objects, which have a number of interesting properties and capabilities. You can learn more about those in the [jupysql documentation](https://jupysql.ploomber.io).\n",
    "\n",
    "For now, let's turn this on so you can see how this simplified, \"pandas all the way\" worfklow looks like:"
   ]
  },
  {
   "cell_type": "code",
   "execution_count": null,
   "id": "997ad531-c5e0-4b60-96b7-4d8c0d78890c",
   "metadata": {},
   "outputs": [],
   "source": [
    "%config SqlMagic.autopandas = True"
   ]
  },
  {
   "cell_type": "code",
   "execution_count": null,
   "id": "c4b32c92-97d1-4044-b8e3-7a0ccbded620",
   "metadata": {},
   "outputs": [],
   "source": [
    "dragon_df = %sql SELECT * FROM Dragon\n",
    "dragon_df"
   ]
  },
  {
   "cell_type": "code",
   "execution_count": null,
   "id": "18f834c2-8511-4c9a-8562-ddd6ed4a6ff4",
   "metadata": {},
   "outputs": [],
   "source": [
    "type(dragon_df)"
   ]
  },
  {
   "cell_type": "markdown",
   "id": "72ec03c1-d649-4f47-890a-68c29fbb5014",
   "metadata": {},
   "source": [
    "#### Storing output of multiple SQL lines\n",
    "\n",
    "You can use the `variable <<` syntax in jupysql to store its output.\n",
    "\n",
    "- Note: This will follow your `autopandas` state and store either a `sql.run.ResultState` or a Pandas `DataFrame`."
   ]
  },
  {
   "cell_type": "code",
   "execution_count": null,
   "id": "653b628c-9ccf-4b49-8c2e-00460439189c",
   "metadata": {},
   "outputs": [],
   "source": [
    "%%sql res <<\n",
    "SELECT *\n",
    "FROM Dragon;"
   ]
  },
  {
   "cell_type": "code",
   "execution_count": null,
   "id": "76a28177-08c1-4ddb-9f7c-5aca714fb186",
   "metadata": {},
   "outputs": [],
   "source": [
    "res"
   ]
  },
  {
   "cell_type": "markdown",
   "id": "4d7ac386-94a9-4d3e-9b65-122d5213314a",
   "metadata": {
    "tags": []
   },
   "source": [
    "### Approach #2: `pd.read_sql`\n",
    "\n",
    "It turns out that `pandas` has a special-purpose function to parse SQL queries. We can pass in a SQL query as a string to return a `pandas` DataFrame. To achieve the same result as we did using cell magic above, we can do the following."
   ]
  },
  {
   "cell_type": "markdown",
   "id": "54b68e95-db18-4bc5-83aa-7631f53520f2",
   "metadata": {},
   "source": [
    "**1. Connect to a database**"
   ]
  },
  {
   "cell_type": "code",
   "execution_count": null,
   "id": "3a8939f0-cbfc-4891-b575-4730df1d8aa5",
   "metadata": {},
   "outputs": [],
   "source": [
    "import sqlalchemy \n",
    "import pandas as pd\n",
    "\n",
    "engine = sqlalchemy.create_engine(\"duckdb:///data/example_duck.db\")"
   ]
  },
  {
   "cell_type": "markdown",
   "id": "170c65bd-6971-45fe-a719-46d4f7b67ddd",
   "metadata": {},
   "source": [
    "**2. Run a simple SQL query**"
   ]
  },
  {
   "cell_type": "code",
   "execution_count": null,
   "id": "f3c78d9d-a192-476d-a1c8-3a6262f940db",
   "metadata": {},
   "outputs": [],
   "source": [
    "query = \"\"\"\n",
    "SELECT * \n",
    "FROM Dragon;\n",
    "\"\"\"\n",
    "\n",
    "df = pd.read_sql(query, engine)\n",
    "df"
   ]
  },
  {
   "cell_type": "markdown",
   "id": "c6fd1c3c-ca0b-4211-a140-f8ca128ba793",
   "metadata": {},
   "source": [
    "### Approach #3 -- DuckDB Special"
   ]
  },
  {
   "cell_type": "markdown",
   "id": "1425235a-cf7d-4e64-826d-d924224b401a",
   "metadata": {},
   "source": [
    "With DuckDB we can directly reference dataframe objects in our Python environment:"
   ]
  },
  {
   "cell_type": "code",
   "execution_count": null,
   "id": "d9236ab8-ae87-4c26-b0f3-2634d3080233",
   "metadata": {},
   "outputs": [],
   "source": [
    "import seaborn as sns\n",
    "import duckdb\n",
    "mpg = sns.load_dataset(\"mpg\")"
   ]
  },
  {
   "cell_type": "code",
   "execution_count": null,
   "id": "88a112e8-961e-46bb-9f35-a9ad5c1a6c52",
   "metadata": {},
   "outputs": [],
   "source": [
    "output = duckdb.query(\"SELECT * FROM mpg\")\n",
    "output"
   ]
  },
  {
   "cell_type": "code",
   "execution_count": null,
   "id": "09c8b34b",
   "metadata": {},
   "outputs": [],
   "source": [
    "type(output)"
   ]
  },
  {
   "cell_type": "code",
   "execution_count": null,
   "id": "2674e4a7",
   "metadata": {},
   "outputs": [],
   "source": [
    "output.df()"
   ]
  },
  {
   "cell_type": "markdown",
   "id": "fc681cfe-8de9-4af0-87dd-46942ea9f1c8",
   "metadata": {},
   "source": [
    "\n",
    "---\n",
    "\n",
    "## Tables and Schema\n",
    "\n",
    "A **database** contains a collection of SQL **tables**. Let's connect to our \"toy\" database `example_duck.db` and explore the tables it stores."
   ]
  },
  {
   "cell_type": "code",
   "execution_count": null,
   "id": "f32da741",
   "metadata": {
    "tags": []
   },
   "outputs": [],
   "source": [
    "%%sql\n",
    "SELECT * FROM information_schema.tables"
   ]
  },
  {
   "cell_type": "code",
   "execution_count": null,
   "id": "cedc4bd6-c8fd-4bcb-bb1d-a5781cebb94a",
   "metadata": {},
   "outputs": [],
   "source": [
    "%%sql\n",
    "SELECT * FROM information_schema.columns"
   ]
  },
  {
   "cell_type": "markdown",
   "id": "8cadf0c7-11b0-4c6d-93a5-5aa4c2142993",
   "metadata": {},
   "source": [
    "### Getting Schema information with SQLAlchemy \n",
    "How you list the tables varies across database platforms.  For example, the statement:\n",
    "\n",
    "```sql\n",
    "SELECT * FROM information_schema.columns\n",
    "```\n",
    "\n",
    "only works on Postgres compatible databases.\n",
    "\n",
    "For example, if we wanted to get the schema for tables in SQLite we would need the following:"
   ]
  },
  {
   "cell_type": "code",
   "execution_count": null,
   "id": "d8153b0f-4b1b-4ba8-81f1-e409f313abf6",
   "metadata": {},
   "outputs": [],
   "source": [
    "pd.read_sql(\"SELECT * FROM sqlite_schema\", \"sqlite:///data/basic_examples.db\")"
   ]
  },
  {
   "cell_type": "markdown",
   "id": "5af2d8be-39ed-444b-aba1-f8c28a6278e3",
   "metadata": {},
   "source": [
    "Fortunately, SQLAlchemy has some generic tools that will be helpful regardless of what database platform you use."
   ]
  },
  {
   "cell_type": "code",
   "execution_count": null,
   "id": "1d43214f-679e-4d47-b188-55509e81b9f4",
   "metadata": {},
   "outputs": [],
   "source": [
    "from sqlalchemy import inspect\n",
    "inspector = inspect(engine)\n",
    "inspector.get_table_names()"
   ]
  },
  {
   "cell_type": "code",
   "execution_count": null,
   "id": "2cdbec81-350f-4c09-add4-8ed4256e7796",
   "metadata": {},
   "outputs": [],
   "source": [
    "inspector.get_columns('scene')"
   ]
  },
  {
   "cell_type": "markdown",
   "id": "cf0c19c9-7188-49da-b678-75945fbf79b9",
   "metadata": {},
   "source": [
    "Same with SQLite"
   ]
  },
  {
   "cell_type": "code",
   "execution_count": null,
   "id": "bb6d2cb4-e4fa-4890-aab1-7d44c2fc7c95",
   "metadata": {},
   "outputs": [],
   "source": [
    "sqlite_engine = sqlalchemy.create_engine(\"sqlite:///data/basic_examples.db\")\n",
    "inspect(sqlite_engine).get_columns(\"scene\")"
   ]
  },
  {
   "cell_type": "markdown",
   "id": "202c6a6f-69aa-4b14-b203-8e94ce2d8470",
   "metadata": {},
   "source": [
    "More advanced example of creating tables with primary and foreign key constraints:"
   ]
  },
  {
   "cell_type": "code",
   "execution_count": null,
   "id": "f3252cfc-1e56-4238-8502-b9bd1c0fcd8d",
   "metadata": {},
   "outputs": [],
   "source": [
    "%sql duckdb:///data/duckdb_example.db --alias student_db"
   ]
  },
  {
   "cell_type": "code",
   "execution_count": null,
   "id": "601f6e5f-b625-4d71-b703-9877d99ca44e",
   "metadata": {},
   "outputs": [],
   "source": [
    "%%sql student_db\n",
    "\n",
    "DROP TABLE IF EXISTS grade;\n",
    "DROP TABLE IF EXISTS assignment;\n",
    "DROP TABLE IF EXISTS student;\n",
    "\n",
    "\n",
    "CREATE TABLE student (\n",
    "    student_id INTEGER PRIMARY KEY,\n",
    "    name VARCHAR,\n",
    "    email VARCHAR\n",
    ");\n",
    "\n",
    "CREATE TABLE assignment (\n",
    "    assignment_id INTEGER PRIMARY KEY,\n",
    "    description VARCHAR\n",
    ");\n",
    "\n",
    "CREATE TABLE grade (\n",
    "    student_id INTEGER,\n",
    "    assignment_id INTEGER,\n",
    "    score REAL CHECK (score > 0 AND score <= 100),\n",
    "    FOREIGN KEY (student_id) REFERENCES student(student_id),\n",
    "    FOREIGN KEY (assignment_id) REFERENCES assignment(assignment_id)\n",
    ");\n",
    "\n",
    "INSERT INTO student VALUES\n",
    "(123, 'JoeyG', 'jegonzal@berkeley.edu'),\n",
    "(456, 'NargesN', 'norouzi@berkeley.edu');\n",
    "\n",
    "INSERT INTO assignment VALUES\n",
    "(1, 'easy assignment'),\n",
    "(2, 'hard assignment');"
   ]
  },
  {
   "cell_type": "code",
   "execution_count": null,
   "id": "5ecb5b9a-3a69-462e-839a-7378a7632473",
   "metadata": {},
   "outputs": [],
   "source": [
    "%%sql \n",
    "INSERT INTO grade VALUES\n",
    "(123, 1, 80),\n",
    "(123, 2, 42),\n",
    "(456, 2, 100);"
   ]
  },
  {
   "cell_type": "code",
   "execution_count": null,
   "id": "19ebe953-1167-40b4-9b5e-38dc069f8514",
   "metadata": {},
   "outputs": [],
   "source": [
    "%sql SELECT * FROM grade;"
   ]
  },
  {
   "cell_type": "markdown",
   "id": "74946c12-47af-42a2-9de5-b20b41eb0160",
   "metadata": {},
   "source": [
    "<br/>\n",
    "\n",
    "---\n",
    "\n",
    "## Basic Queries\n",
    "\n",
    "### `SELECT` and `FROM`\n",
    "Every SQL query *must* contain a `SELECT` and `FROM` clause.\n",
    "\n",
    "* `SELECT`: specify the column(s) to return in the output.\n",
    "* `FROM`: specify the database table from which to extract data.\n",
    "\n",
    "First, let's reconnect to our `duckdb_ex` database from earlier:"
   ]
  },
  {
   "cell_type": "code",
   "execution_count": null,
   "id": "df4dd3d0",
   "metadata": {},
   "outputs": [],
   "source": [
    "%sql duckdb_ex"
   ]
  },
  {
   "cell_type": "code",
   "execution_count": null,
   "id": "8b10641e",
   "metadata": {},
   "outputs": [],
   "source": [
    "%%sql\n",
    "SELECT * \n",
    "FROM Dragon;"
   ]
  },
  {
   "cell_type": "code",
   "execution_count": null,
   "id": "0db25a51",
   "metadata": {},
   "outputs": [],
   "source": [
    "%%sql\n",
    "SELECT cute, year \n",
    "FROM Dragon;"
   ]
  },
  {
   "cell_type": "markdown",
   "id": "9995de9b-c827-48b6-84bc-3b169cc5f549",
   "metadata": {},
   "source": [
    "### Aliasing with `AS`"
   ]
  },
  {
   "cell_type": "code",
   "execution_count": null,
   "id": "75596c85-eb17-4d19-b065-984524dec1d8",
   "metadata": {},
   "outputs": [],
   "source": [
    "%%sql\n",
    "SELECT cute AS cuteness,\n",
    "       year AS \"birth year\"\n",
    "FROM Dragon;"
   ]
  },
  {
   "cell_type": "markdown",
   "id": "9d76e462",
   "metadata": {},
   "source": [
    "`AS` is technically optional, but often good practice to include!"
   ]
  },
  {
   "cell_type": "code",
   "execution_count": null,
   "id": "7f47f370",
   "metadata": {},
   "outputs": [],
   "source": [
    "%%sql\n",
    "SELECT cute cuteness,\n",
    "       year \"birth year\"\n",
    "FROM Dragon;"
   ]
  },
  {
   "cell_type": "markdown",
   "id": "8aba7a6c-2e1b-496e-944b-a752023dbb8a",
   "metadata": {},
   "source": [
    "### Uniqueness with `DISTINCT`"
   ]
  },
  {
   "cell_type": "code",
   "execution_count": null,
   "id": "734189f7-de89-42ca-84e3-306cb564f34e",
   "metadata": {},
   "outputs": [],
   "source": [
    "%%sql\n",
    "SELECT DISTINCT year\n",
    "FROM Dragon;"
   ]
  },
  {
   "cell_type": "markdown",
   "id": "fca8c73c-ca03-4f65-9dfe-72e2368bd795",
   "metadata": {},
   "source": [
    "### Filtering with `WHERE`"
   ]
  },
  {
   "cell_type": "code",
   "execution_count": null,
   "id": "2a28705b-7d0d-4252-b544-346194d2eea0",
   "metadata": {},
   "outputs": [],
   "source": [
    "%%sql\n",
    "SELECT name, year\n",
    "FROM Dragon\n",
    "WHERE cute > 0;"
   ]
  },
  {
   "cell_type": "code",
   "execution_count": null,
   "id": "b8a3e2ce-9be3-41fa-8fcb-02b63095d269",
   "metadata": {},
   "outputs": [],
   "source": [
    "%%sql\n",
    "SELECT name, cute, year\n",
    "FROM Dragon\n",
    "WHERE cute > 0 OR year > 2013;"
   ]
  },
  {
   "cell_type": "code",
   "execution_count": null,
   "id": "9cbbfe9a-7098-48c4-b015-c81b6ff5acb8",
   "metadata": {},
   "outputs": [],
   "source": [
    "%%sql\n",
    "SELECT name, year\n",
    "FROM Dragon \n",
    "WHERE name IN ('puff', 'hiccup');"
   ]
  },
  {
   "cell_type": "code",
   "execution_count": null,
   "id": "03dac425-d2e2-4699-99b9-5ca9bbbc1ab0",
   "metadata": {},
   "outputs": [],
   "source": [
    "%%sql\n",
    "SELECT name, cute\n",
    "FROM Dragon\n",
    "WHERE cute IS NOT NULL;"
   ]
  },
  {
   "cell_type": "markdown",
   "id": "fc92df7a-14b4-4379-9c68-b1326c2a6b7d",
   "metadata": {},
   "source": [
    "### Ordering data using `ORDER BY`"
   ]
  },
  {
   "cell_type": "code",
   "execution_count": null,
   "id": "e92fcdcb-7b45-486c-a1f7-8d6c7e25413c",
   "metadata": {},
   "outputs": [],
   "source": [
    "%%sql\n",
    "SELECT *\n",
    "FROM Dragon\n",
    "ORDER BY cute DESC;"
   ]
  },
  {
   "cell_type": "markdown",
   "id": "7972bc77-a058-477e-a945-828888c48147",
   "metadata": {},
   "source": [
    "### Restricting output with `LIMIT` and `OFFSET`"
   ]
  },
  {
   "cell_type": "code",
   "execution_count": null,
   "id": "afc34d86-ab22-4b0b-aad2-959247fe2494",
   "metadata": {},
   "outputs": [],
   "source": [
    "%%sql\n",
    "SELECT *\n",
    "FROM Dragon\n",
    "LIMIT 2;"
   ]
  },
  {
   "cell_type": "code",
   "execution_count": null,
   "id": "80802839-9169-4768-b2b1-49368ded674b",
   "metadata": {},
   "outputs": [],
   "source": [
    "%%sql\n",
    "SELECT *\n",
    "FROM Dragon\n",
    "LIMIT 2\n",
    "OFFSET 1;"
   ]
  },
  {
   "cell_type": "markdown",
   "id": "249ad449-99d0-422a-8058-c92aa66ad284",
   "metadata": {},
   "source": [
    "### Sampling with `RANDOM()`\n",
    "What if we wanted a random sample:"
   ]
  },
  {
   "cell_type": "code",
   "execution_count": null,
   "id": "1dab307f-2461-4e84-9605-8d9839e979c1",
   "metadata": {},
   "outputs": [],
   "source": [
    "%%sql\n",
    "SELECT *\n",
    "FROM Dragon\n",
    "ORDER BY RANDOM() \n",
    "LIMIT 2"
   ]
  },
  {
   "cell_type": "code",
   "execution_count": null,
   "id": "a3bc8fc2-956c-4c7b-847d-db8778ae884a",
   "metadata": {},
   "outputs": [],
   "source": [
    "%%sql\n",
    "SELECT * \n",
    "FROM Dragon USING SAMPLE reservoir(2 ROWS) REPEATABLE (100);"
   ]
  }
 ],
 "metadata": {
  "kernelspec": {
   "display_name": "Python 3 (ipykernel)",
   "language": "python",
   "name": "python3"
  },
  "language_info": {
   "codemirror_mode": {
    "name": "ipython",
    "version": 3
   },
   "file_extension": ".py",
   "mimetype": "text/x-python",
   "name": "python",
   "nbconvert_exporter": "python",
   "pygments_lexer": "ipython3",
   "version": "3.9.12"
  },
  "vscode": {
   "interpreter": {
    "hash": "b0fa6594d8f4cbf19f97940f81e996739fb7646882a419484c72d19e05852a7e"
   }
  }
 },
 "nbformat": 4,
 "nbformat_minor": 5
}
