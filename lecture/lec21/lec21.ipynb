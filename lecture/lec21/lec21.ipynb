{
 "cells": [
  {
   "cell_type": "markdown",
   "id": "31f40da4-66a9-4260-a6d6-5bc9e3e8e0f7",
   "metadata": {},
   "source": [
    "# 🗃️ Lecture 21 – Data 100, Summer 2025\n",
    "\n",
    "Data 100, Summer 2025\n",
    "\n",
    "[Acknowledgments Page](https://ds100.org/su25/acks/)"
   ]
  },
  {
   "cell_type": "markdown",
   "id": "4f59c6a3-9439-47dd-b7de-a4fb1cd793db",
   "metadata": {},
   "source": [
    "### Loading the Data\n",
    "In this lecture, we'll work with the `Dish` table. In the cells below, we connect to the database and query the table."
   ]
  },
  {
   "cell_type": "code",
   "execution_count": null,
   "id": "c02424df-1496-494b-b64b-48c06701588e",
   "metadata": {},
   "outputs": [],
   "source": [
    "%load_ext sql"
   ]
  },
  {
   "cell_type": "markdown",
   "id": "49ea3cfc-4004-4962-9cf1-f70e2d1d8de1",
   "metadata": {},
   "source": [
    "Add support for reading `sqlite` tables using duckdb."
   ]
  },
  {
   "cell_type": "code",
   "execution_count": null,
   "id": "7ac801e5-de8c-4695-b5ea-6ab920a058cf",
   "metadata": {},
   "outputs": [],
   "source": [
    "%config SqlMagic.displaylimit = 100"
   ]
  },
  {
   "cell_type": "markdown",
   "id": "61e5ec09-5063-4cbf-afe6-8620b8895577",
   "metadata": {},
   "source": [
    "Loading the SQLite database file using duckdb."
   ]
  },
  {
   "cell_type": "code",
   "execution_count": null,
   "id": "783d46d6-f62e-474c-ac21-6145256e397f",
   "metadata": {},
   "outputs": [],
   "source": [
    "%sql duckdb:///data/basic_examples.db --alias duckdb_ex"
   ]
  },
  {
   "cell_type": "markdown",
   "id": "73bdc6e1-2223-4749-8c7f-d0c5f2c59526",
   "metadata": {},
   "source": [
    "Get the large IMDB database file for other examples in this demo."
   ]
  },
  {
   "cell_type": "markdown",
   "id": "67421465-c947-405b-b4e6-96784aa8930d",
   "metadata": {},
   "source": [
    "## Grouping Data with `GROUP BY`"
   ]
  },
  {
   "cell_type": "code",
   "execution_count": null,
   "id": "e3e597fe-4c64-47d1-a51a-1d41494932c9",
   "metadata": {},
   "outputs": [],
   "source": [
    "%%sql\n",
    "SELECT *\n",
    "FROM Dish;"
   ]
  },
  {
   "cell_type": "code",
   "execution_count": null,
   "id": "1d6035fd-28f6-4d4d-b425-6041703c3f1e",
   "metadata": {},
   "outputs": [],
   "source": [
    "%%sql\n",
    "SELECT type\n",
    "FROM Dish;"
   ]
  },
  {
   "cell_type": "markdown",
   "id": "0ba61dcf",
   "metadata": {},
   "source": [
    "Re-run this cell a couple times. Notice that there is no guaranteed order!"
   ]
  },
  {
   "cell_type": "code",
   "execution_count": null,
   "id": "c3abb344-ac8f-40a7-bcc0-55279020871a",
   "metadata": {},
   "outputs": [],
   "source": [
    "%%sql\n",
    "SELECT type\n",
    "FROM Dish\n",
    "GROUP BY type;"
   ]
  },
  {
   "cell_type": "markdown",
   "id": "bebf009f",
   "metadata": {},
   "source": [
    "Remember that SQL is a declarative programming language. Even though the summation happens after the grouping \"under the hood\", we include the summation in the `SELECT` clause."
   ]
  },
  {
   "cell_type": "code",
   "execution_count": null,
   "id": "99215fcb-87c2-4452-bcff-a56960d96784",
   "metadata": {},
   "outputs": [],
   "source": [
    "%%sql\n",
    "SELECT type, SUM(cost)\n",
    "FROM Dish\n",
    "GROUP BY type;"
   ]
  },
  {
   "cell_type": "code",
   "execution_count": null,
   "id": "adc75bb7-98f4-4c7e-aea6-ef508b3cb59c",
   "metadata": {},
   "outputs": [],
   "source": [
    "%%sql\n",
    "SELECT type, \n",
    "       SUM(cost), \n",
    "       MIN(cost),\n",
    "       MAX(name)\n",
    "FROM Dish\n",
    "GROUP BY type;"
   ]
  },
  {
   "cell_type": "markdown",
   "id": "363e0d8a",
   "metadata": {},
   "source": [
    "Count the non-`NULL` values in `cute`:"
   ]
  },
  {
   "cell_type": "code",
   "execution_count": null,
   "id": "2b696cdd-9019-40a9-81a6-db592a2c9782",
   "metadata": {},
   "outputs": [],
   "source": [
    "%%sql\n",
    "SELECT year, COUNT(cute)\n",
    "FROM Dragon\n",
    "GROUP BY year;"
   ]
  },
  {
   "cell_type": "markdown",
   "id": "4f0954a1",
   "metadata": {},
   "source": [
    "Count the number of rows in each group:"
   ]
  },
  {
   "cell_type": "code",
   "execution_count": null,
   "id": "8143d336-5190-4158-bc3a-ab5b25898432",
   "metadata": {},
   "outputs": [],
   "source": [
    "%%sql\n",
    "SELECT year, COUNT(*)\n",
    "FROM Dragon\n",
    "GROUP BY year;"
   ]
  },
  {
   "cell_type": "markdown",
   "id": "16166fbe-6b8c-4ec9-a8bd-7e229f6d2ce9",
   "metadata": {},
   "source": [
    "## Filtering Groups Using `HAVING`"
   ]
  },
  {
   "cell_type": "code",
   "execution_count": null,
   "id": "708a6551-d44b-4359-9598-90ed2f58c06d",
   "metadata": {},
   "outputs": [],
   "source": [
    "%%sql\n",
    "SELECT *\n",
    "FROM Dish;"
   ]
  },
  {
   "cell_type": "code",
   "execution_count": null,
   "id": "b21de9e2-6798-4f3c-bee1-3951dec17ece",
   "metadata": {},
   "outputs": [],
   "source": [
    "%%sql\n",
    "SELECT type, COUNT(*)\n",
    "FROM Dish\n",
    "GROUP BY type\n",
    "HAVING MAX(cost) < 10;"
   ]
  },
  {
   "cell_type": "code",
   "execution_count": null,
   "id": "20281ef4-33cd-437c-b87e-dec8c61112ce",
   "metadata": {},
   "outputs": [],
   "source": [
    "%%sql\n",
    "SELECT type, COUNT(*)\n",
    "FROM Dish\n",
    "WHERE cost < 10\n",
    "GROUP BY type"
   ]
  },
  {
   "cell_type": "code",
   "execution_count": null,
   "id": "a3e1d2ec-3b12-41ec-bca6-e8c7df134fcc",
   "metadata": {},
   "outputs": [],
   "source": [
    "%%sql\n",
    "SELECT * \n",
    "FROM Dragon"
   ]
  },
  {
   "cell_type": "code",
   "execution_count": null,
   "id": "58cac6b4-9b64-48c0-92d6-9b88f8f49af3",
   "metadata": {},
   "outputs": [],
   "source": [
    "%%sql\n",
    "SELECT year, MAX(cute)\n",
    "FROM Dragon\n",
    "WHERE name in ('hiccup', 'dragon', 'puff')\n",
    "GROUP BY year\n",
    "HAVING MIN(cute) >= 0;"
   ]
  },
  {
   "cell_type": "markdown",
   "id": "65a990bb-1c1e-4833-a631-b06f37bb4ba5",
   "metadata": {},
   "source": [
    "## EDA in SQL\n",
    "\n",
    "Our typical workflow when working with \"big data\" is:\n",
    "* Use SQL to query data from a database\n",
    "* Use Python (with `pandas`) to analyze this data in detail\n",
    "\n",
    "We can, however, still perform simple data cleaning and re-structuring using SQL directly. To do so, we'll consider the `Title` table from the IMDB dataset."
   ]
  },
  {
   "cell_type": "code",
   "execution_count": null,
   "id": "7c291e42-2589-4d4c-8052-1c2174c57c3f",
   "metadata": {},
   "outputs": [],
   "source": [
    "# Use the gdown package to download the ~3GB imdb database\n",
    "!pip install gdown\n",
    "\n",
    "import os\n",
    "if os.path.exists(\"/home/jovyan/shared/sql/imdb_duck.db\"):\n",
    "    imdbpath = \"duckdb:////home/jovyan/shared/sql/imdb_duck.db\"\n",
    "elif os.path.exists(\"data/imdb_duck.db\"):\n",
    "    imdbpath =  \"duckdb:///data/imdb_duck.db\"\n",
    "else:\n",
    "    import gdown\n",
    "    url = 'https://drive.google.com/uc?id=10tKOHGLt9QoOgq5Ii-FhxpB9lDSQgl1O'\n",
    "    output_path = 'data/imdb_duck.db'\n",
    "    gdown.download(url, output_path, quiet=False)\n",
    "    imdbpath = \"duckdb:///data/imdb_duck.db\"\n",
    "print(imdbpath)"
   ]
  },
  {
   "cell_type": "code",
   "execution_count": null,
   "id": "685c008e-5dfb-4d4e-8219-64988710475a",
   "metadata": {},
   "outputs": [],
   "source": [
    "# Connect to the DuckDB database containing the IMDB data\n",
    "from sqlalchemy import create_engine\n",
    "imdb_engine = create_engine(imdbpath, connect_args={'read_only': True})\n",
    "imdb_engine = create_engine(\"duckdb:///data/imdb_duck.db\", connect_args={'read_only': True})\n",
    "%sql imdb_engine --alias imdb"
   ]
  },
  {
   "cell_type": "code",
   "execution_count": null,
   "id": "396d27bc-dec2-4dd2-a52c-03602e2d2bc2",
   "metadata": {},
   "outputs": [],
   "source": [
    "%%sql\n",
    "SELECT setseed(0.42); -- Setting the random number seed for reproducibility\n",
    "\n",
    "SELECT *\n",
    "FROM Title\n",
    "ORDER BY RANDOM()\n",
    "LIMIT 10;"
   ]
  },
  {
   "cell_type": "markdown",
   "id": "91dffd1a-ea90-42d8-9fdc-9f9527afa26b",
   "metadata": {},
   "source": [
    "### Matching Text Using `LIKE`"
   ]
  },
  {
   "cell_type": "markdown",
   "id": "4fcc9014",
   "metadata": {},
   "source": [
    "`%` is similiar to `.*` in regex:"
   ]
  },
  {
   "cell_type": "code",
   "execution_count": null,
   "id": "6b33e667-f757-4201-bceb-b0a8535a8bef",
   "metadata": {},
   "outputs": [],
   "source": [
    "%%sql \n",
    "SELECT titleType, primaryTitle\n",
    "FROM Title\n",
    "WHERE primaryTitle LIKE '%Star Wars%'"
   ]
  },
  {
   "cell_type": "code",
   "execution_count": null,
   "id": "42ae9f86-4a5d-42ed-b9f8-1a54f52e61f4",
   "metadata": {},
   "outputs": [],
   "source": [
    "%%sql \n",
    "SELECT titleType, primaryTitle\n",
    "FROM Title\n",
    "WHERE primaryTitle SIMILAR TO '.*Star Wars.*'"
   ]
  },
  {
   "cell_type": "markdown",
   "id": "bb879afb",
   "metadata": {},
   "source": [
    "`_` represents a single character, similar to `.`:"
   ]
  },
  {
   "cell_type": "code",
   "execution_count": null,
   "id": "1b3b7f67-ffc9-400f-9149-b5819b76110e",
   "metadata": {},
   "outputs": [],
   "source": [
    "%%sql \n",
    "SELECT titleType, primaryTitle\n",
    "FROM Title\n",
    "WHERE primaryTitle LIKE 'Harry Potter and the Deathly Hallows: Part _'"
   ]
  },
  {
   "cell_type": "markdown",
   "id": "0672546d-cc65-4391-80f1-0f42f451e42b",
   "metadata": {
    "tags": []
   },
   "source": [
    "### Converting Data Types Using `CAST`"
   ]
  },
  {
   "cell_type": "code",
   "execution_count": null,
   "id": "ba80cc38-c5fb-4b2b-8b7b-2564b2657d11",
   "metadata": {},
   "outputs": [],
   "source": [
    "%%sql\n",
    "SELECT primaryTitle, CAST(runtimeMinutes AS FLOAT)\n",
    "FROM Title\n",
    "LIMIT 10;"
   ]
  },
  {
   "cell_type": "markdown",
   "id": "7c3e867f-ef9b-423e-8bb1-1b39d334fc46",
   "metadata": {},
   "source": [
    "## Applying Conditions With `CASE`\n",
    "\n",
    "`CASE WHEN` is the SQL version of `if` `else if` `...` `else`\n",
    "\n",
    "Here, we return a random order so we can see the various movie ages (otherwise, the top few entries happen to all be old movies)."
   ]
  },
  {
   "cell_type": "code",
   "execution_count": null,
   "id": "cad982e9-b13d-42bf-868d-050f45c6d269",
   "metadata": {},
   "outputs": [],
   "source": [
    "%%sql\n",
    "SELECT setseed(0.42); -- Setting the random number seed\n",
    "    \n",
    "SELECT titleType, startYear,\n",
    "CASE WHEN startYear < '1950' THEN 'old'\n",
    "     WHEN startYear < '2000' THEN 'mid-aged'\n",
    "     ELSE 'new'\n",
    "     END AS movie_age\n",
    "FROM Title\n",
    "ORDER BY RANDOM()\n",
    "LIMIT 10;"
   ]
  },
  {
   "cell_type": "markdown",
   "id": "6ddf91ce-a73f-43c9-8698-fa4256b19931",
   "metadata": {},
   "source": [
    "<br>\n",
    "\n",
    "---\n",
    "\n",
    "\n",
    "## Joining Tables\n",
    "\n",
    "We combine data from multiple tables by performing a **join**. We will explore joins using the cats database, which includes two tables: `s` and `t`."
   ]
  },
  {
   "cell_type": "code",
   "execution_count": null,
   "id": "5f24e00c-91d2-478c-a7ef-ade5b495c4db",
   "metadata": {},
   "outputs": [],
   "source": [
    "%sql duckdb:///data/cats.db --alias cats"
   ]
  },
  {
   "cell_type": "code",
   "execution_count": null,
   "id": "b1d60757-de31-42fe-bc09-baad228c954c",
   "metadata": {},
   "outputs": [],
   "source": [
    "%%sql\n",
    "\n",
    "DROP TABLE IF EXISTS s;\n",
    "DROP TABLE IF EXISTS t;\n",
    "\n",
    "CREATE TABLE s (\n",
    "    id INTEGER,\n",
    "    name VARCHAR,\n",
    ");\n",
    "\n",
    "CREATE TABLE t (\n",
    "    id INTEGER,\n",
    "    breed VARCHAR\n",
    ");\n",
    "\n",
    "\n",
    "INSERT INTO s VALUES\n",
    "(0, 'Apricot'),\n",
    "(1, 'Boots'),\n",
    "(2, 'Cally'),\n",
    "(4, 'Eugene');\n",
    "\n",
    "INSERT INTO t VALUES\n",
    "(1, 'persian'),\n",
    "(2, 'ragdoll'),\n",
    "(4, 'bengal'),\n",
    "(5, 'persian');"
   ]
  },
  {
   "cell_type": "code",
   "execution_count": null,
   "id": "53c255af-a67a-4f4e-bd51-45f394c6e6bf",
   "metadata": {},
   "outputs": [],
   "source": [
    "%%sql\n",
    "SELECT * FROM t;"
   ]
  },
  {
   "cell_type": "markdown",
   "id": "117c16ae-866a-41bb-b992-69ab97da61cd",
   "metadata": {},
   "source": [
    "### Inner Join"
   ]
  },
  {
   "cell_type": "markdown",
   "id": "bd4cd53c",
   "metadata": {},
   "source": [
    "Only keep rows with a match. Similar to the default behavior of `pd.merge`."
   ]
  },
  {
   "cell_type": "code",
   "execution_count": null,
   "id": "3e5df456-131a-4095-b5e0-fb7a180b9804",
   "metadata": {},
   "outputs": [],
   "source": [
    "%%sql\n",
    "SELECT s.id, name, breed\n",
    "FROM s INNER JOIN t ON s.id = t.id;"
   ]
  },
  {
   "cell_type": "markdown",
   "id": "d1270550-9ecf-461d-957b-cbfc00abcd2d",
   "metadata": {},
   "source": [
    "By default, `JOIN`ing without specifying a join type will default to an inner join."
   ]
  },
  {
   "cell_type": "code",
   "execution_count": null,
   "id": "5b66c03f-0019-4bae-8481-30d162983bd4",
   "metadata": {},
   "outputs": [],
   "source": [
    "%%sql\n",
    "SELECT s.id, name, breed\n",
    "FROM s JOIN t ON s.id = t.id;"
   ]
  },
  {
   "cell_type": "markdown",
   "id": "9f79b59c-d405-4e52-8e9c-5d7a6d091dd5",
   "metadata": {},
   "source": [
    "### Cross Join"
   ]
  },
  {
   "cell_type": "markdown",
   "id": "6fef60eb",
   "metadata": {},
   "source": [
    "A cross joins will join each row of the first table with every row of the second table."
   ]
  },
  {
   "cell_type": "code",
   "execution_count": null,
   "id": "4c1b6b34-60ac-4705-859d-484ef8433bd3",
   "metadata": {},
   "outputs": [],
   "source": [
    "%%sql\n",
    "SELECT *\n",
    "FROM s CROSS JOIN t;"
   ]
  },
  {
   "cell_type": "markdown",
   "id": "9e3e5f03-a5e6-40c5-ae8d-6775b77502d0",
   "metadata": {},
   "source": [
    "Equivalently, a cross join can be performed using the following syntax:"
   ]
  },
  {
   "cell_type": "code",
   "execution_count": null,
   "id": "9251416b-0f2b-43c2-83bc-581229c13c0a",
   "metadata": {},
   "outputs": [],
   "source": [
    "%%sql\n",
    "SELECT *\n",
    "FROM s, t"
   ]
  },
  {
   "cell_type": "markdown",
   "id": "f48e8f72-0c3b-4017-aeeb-fb4ace5702ee",
   "metadata": {},
   "source": [
    "Conceptually, an inner join is equivalent to a cross join where irrelevant rows are removed.\n",
    "\n",
    "Below is an example of a common **implicit join**. An inner join happened without the `JOIN` keyword!"
   ]
  },
  {
   "cell_type": "code",
   "execution_count": null,
   "id": "470b9184-26ba-4c6c-a246-652a513a1414",
   "metadata": {},
   "outputs": [],
   "source": [
    "%%sql\n",
    "SELECT *\n",
    "FROM s, t\n",
    "WHERE s.id = t.id;"
   ]
  },
  {
   "cell_type": "markdown",
   "id": "c2285365-516a-44f6-9725-5d2dc01168da",
   "metadata": {},
   "source": [
    "### Left Outer Join"
   ]
  },
  {
   "cell_type": "markdown",
   "id": "c6eba00c",
   "metadata": {},
   "source": [
    "Keep everything from the left table, and use `NULL` where there is not a match:"
   ]
  },
  {
   "cell_type": "code",
   "execution_count": null,
   "id": "614453f4-8bef-4712-b8d0-098e710c93bf",
   "metadata": {},
   "outputs": [],
   "source": [
    "%%sql\n",
    "SELECT *\n",
    "FROM s LEFT JOIN t ON s.id = t.id;"
   ]
  },
  {
   "cell_type": "markdown",
   "id": "11f57bfd-bc80-4ee3-93ab-605a8fb9d6c3",
   "metadata": {},
   "source": [
    "### Right Outer Join"
   ]
  },
  {
   "cell_type": "markdown",
   "id": "bab05c5c",
   "metadata": {},
   "source": [
    "Keep everything from the right table, and use `NULL` where there is not a match:"
   ]
  },
  {
   "cell_type": "code",
   "execution_count": null,
   "id": "4fb1a370-0977-437a-a7c1-a0928c923d8d",
   "metadata": {},
   "outputs": [],
   "source": [
    "%%sql\n",
    "SELECT *\n",
    "FROM s RIGHT JOIN t ON s.id = t.id;"
   ]
  },
  {
   "cell_type": "markdown",
   "id": "49a5f50b-58c9-4dc6-830b-dc95706135eb",
   "metadata": {
    "tags": []
   },
   "source": [
    "### Full Outer Join"
   ]
  },
  {
   "cell_type": "markdown",
   "id": "887e3db1",
   "metadata": {},
   "source": [
    "Keep everything from the both tables, and use `NULL` where there is not a match:"
   ]
  },
  {
   "cell_type": "code",
   "execution_count": null,
   "id": "11c7ba06-37c0-432f-9aa7-d36c5893b0f7",
   "metadata": {},
   "outputs": [],
   "source": [
    "%%sql\n",
    "SELECT *\n",
    "FROM s FULL JOIN t ON s.id = t.id;"
   ]
  },
  {
   "cell_type": "markdown",
   "id": "c1d48296-f9b7-4b92-9b23-5f3f158a800b",
   "metadata": {},
   "source": [
    "### Aliasing in Joins\n",
    "\n",
    "Let's return to the IMDB dataset. Now, we'll consider two tables: `Title` and `Rating`."
   ]
  },
  {
   "cell_type": "code",
   "execution_count": null,
   "id": "9361e5fe",
   "metadata": {},
   "outputs": [],
   "source": [
    "%sql imdb"
   ]
  },
  {
   "cell_type": "markdown",
   "id": "604954fa-7fc4-436d-aaa9-7c6e8f815ed5",
   "metadata": {},
   "source": [
    "When working with tables that have long names, we often create an **alias** using the `AS` keyword (much like we did with columns in the previous lecture). This makes it easier to reference these tables when performing a join."
   ]
  },
  {
   "cell_type": "code",
   "execution_count": null,
   "id": "00d37a0f-47ec-4ca5-9cd2-77a4dc5ec83e",
   "metadata": {},
   "outputs": [],
   "source": [
    "%%sql\n",
    "SELECT primaryTitle, averageRating, genres, \n",
    "FROM Title AS T INNER JOIN Rating AS R\n",
    "    ON T.tconst = R.tconst\n",
    "WHERE CAST (numVotes AS INT) > 100 \n",
    "ORDER BY averageRating DESC\n",
    "LIMIT 10;"
   ]
  },
  {
   "cell_type": "markdown",
   "id": "5df62566-bca9-421b-9ab2-32648a4ae63c",
   "metadata": {},
   "source": [
    "The `AS` keyword is optional – omitting it will still create an alias. We typically include `AS` to make our queries more readable."
   ]
  },
  {
   "cell_type": "code",
   "execution_count": null,
   "id": "cf423d44-e50d-4799-a366-9ac45ad71b37",
   "metadata": {},
   "outputs": [],
   "source": [
    "%%sql \n",
    "SELECT primaryTitle, averageRating\n",
    "FROM Title T INNER JOIN Rating R\n",
    "    ON T.tconst = R.tconst\n",
    "WHERE CAST (numVotes AS INT) > 100 \n",
    "ORDER BY averageRating DESC\n",
    "LIMIT 10;"
   ]
  },
  {
   "cell_type": "markdown",
   "id": "3ea4cf36-1467-4dd4-b704-f9da045ad153",
   "metadata": {},
   "source": [
    "Referencing columns using the full or aliased table name is important to avoid ambiguity. Suppose the tables we are trying to join both include a column with the same name, like the `tconst` columns present in both the `Title` and `Rating` tables of the IMDB database. If we do not specify which table's column we wish to reference, SQL will not be able to process our query.\n",
    "\n",
    "In the cell below, it is unclear if we are referring to the `tconst` column from the `Title` table or the `tconst` column from the `Rating` table. SQL errors.\n",
    "\n",
    "```sql\n",
    "SELECT primaryTitle, averageRating\n",
    "FROM Title AS T INNER JOIN Rating AS R\n",
    "ON tconst = tconst;\n",
    "```"
   ]
  },
  {
   "cell_type": "markdown",
   "id": "038fcf87-0649-45c4-a5aa-893dbee977d1",
   "metadata": {},
   "source": [
    "## IMDB Case Study\n",
    "\n",
    "Let's perform our first data science task in SQL – we'll explore the IMDB dataset in further detail.\n",
    "\n",
    "First, let's understand what tables are present in the database."
   ]
  },
  {
   "cell_type": "code",
   "execution_count": null,
   "id": "e8c266c3-012f-4087-a723-fe0a2e954cce",
   "metadata": {},
   "outputs": [],
   "source": [
    "%%sql\n",
    "SELECT tbl_name, sql FROM sqlite_master WHERE type='table'"
   ]
  },
  {
   "cell_type": "markdown",
   "id": "2ac7f66f-f75a-42bd-80d4-b11a2151bc4b",
   "metadata": {},
   "source": [
    "Let's take a closer look at the `Title` table. Below, we preview a few rows of interest."
   ]
  },
  {
   "cell_type": "code",
   "execution_count": null,
   "id": "3394b57c-292f-4042-8a89-22d60c255fbd",
   "metadata": {},
   "outputs": [],
   "source": [
    "%%sql \n",
    "SELECT *\n",
    "FROM Title\n",
    "WHERE primaryTitle IN ('Ginny & Georgia', 'What If...?', 'Succession', 'Veep', 'Tenet')\n",
    "LIMIT 50;"
   ]
  },
  {
   "cell_type": "markdown",
   "id": "67cf3822-4a8f-49c9-9cc0-124277f7c10f",
   "metadata": {},
   "source": [
    "There are a few issues with how this data is stored. Can you spot them?\n",
    "\n",
    "* We see some rows with **missing** `runtimeMinutes`. This suggests malformed data. We could drop these rows in `pandas` using `[]` or `.dropna()`.\n",
    "\n",
    "Instead, let's see how we can can do these fixes in SQL. "
   ]
  },
  {
   "cell_type": "code",
   "execution_count": null,
   "id": "a5976963-832d-4cd8-b3f7-f47b86e81534",
   "metadata": {},
   "outputs": [],
   "source": [
    "%%sql \n",
    "SELECT \n",
    "    tconst AS id,\n",
    "    primaryTitle AS title, \n",
    "    titleType,\n",
    "    runtimeMinutes,\n",
    "    startYear\n",
    "FROM Title\n",
    "WHERE \n",
    "    runtimeMinutes > 0 AND runtimeMinutes < 300 -- get rid of outliers and missing values --\n",
    "    AND startYear > 0     -- get rid of missing values --\n",
    "LIMIT 10"
   ]
  },
  {
   "cell_type": "markdown",
   "id": "2fbc3c37-5193-4e24-80b0-71b2b66a6ac8",
   "metadata": {},
   "source": [
    "Perhaps we're interested in only **top rated action movies**. We can refine our query results futher."
   ]
  },
  {
   "cell_type": "code",
   "execution_count": null,
   "id": "621f3636-a39a-4cde-a714-aa09849e5e0a",
   "metadata": {},
   "outputs": [],
   "source": [
    "%%sql\n",
    "SELECT \n",
    "    T.tconst AS id,\n",
    "    primaryTitle AS title, \n",
    "    titleType,\n",
    "    runtimeMinutes,\n",
    "    startYear,\n",
    "    genres,\n",
    "    averageRating, \n",
    "    numVotes\n",
    "FROM Title T, Rating R\n",
    "WHERE \n",
    "    T.tconst = R.tconst \n",
    "    AND runtimeMinutes > 0 AND runtimeMinutes < 300 -- get rid of outliers and missing values --\n",
    "    AND startYear > 0     -- get rid of missing values --\n",
    "    AND titleType = 'movie' -- get movies\n",
    "    AND numVotes >= 1000\n",
    "    AND genres LIKE '%Action%'\n",
    "ORDER BY averageRating DESC\n",
    "LIMIT 10"
   ]
  },
  {
   "cell_type": "markdown",
   "id": "fed0b07e-8508-482d-87ca-235bc708eef2",
   "metadata": {},
   "source": [
    "### Using CTEs to do some complex analysis  \n",
    "Here we use a Common Table Expression (CTE) to construct a table that I use as an input in another query.\n",
    "\n",
    "- This is a bit like temporarily storing the output of one query, using that output as part of another query, and then discarding the temporary output.\n",
    "\n",
    "This is done with the syntax:\n",
    "\n",
    "```sql\n",
    "WITH table_name as ( \n",
    "    SELECT ...\n",
    ")\n",
    "SELECT ... \n",
    "FROM table_name, ...\n",
    "...    \n",
    "```"
   ]
  },
  {
   "cell_type": "code",
   "execution_count": null,
   "id": "ad2db074-16f9-443b-b63d-91cebb8258e8",
   "metadata": {},
   "outputs": [],
   "source": [
    "%%sql\n",
    "WITH good_action_movies AS (\n",
    "    SELECT *\n",
    "    FROM Title T JOIN Rating R ON T.tconst = R.tconst  \n",
    "    WHERE genres LIKE '%Action%' AND CAST (averageRating AS INT) > 7 AND CAST (numVotes AS INT) > 5000\n",
    "),\n",
    "prolific_actors AS (\n",
    "    SELECT N.nconst, primaryName, COUNT(*) as numRoles\n",
    "    FROM Name N JOIN Principal P ON N.nconst = P.nconst\n",
    "    WHERE category = 'actor'\n",
    "    GROUP BY N.nconst, primaryName\n",
    ")\n",
    "SELECT primaryTitle, primaryName, numRoles, ROUND(CAST (averageRating AS INT)) AS rating\n",
    "FROM good_action_movies m, prolific_actors a, principal p\n",
    "WHERE p.tconst = m.tconst AND p.nconst = a.nconst\n",
    "ORDER BY rating DESC, numRoles DESC\n",
    "LIMIT 20"
   ]
  },
  {
   "cell_type": "markdown",
   "id": "f4bfa737-ea71-442f-a122-268fd7d3b046",
   "metadata": {},
   "source": [
    "### How do ratings vary through the years?"
   ]
  },
  {
   "cell_type": "markdown",
   "id": "f0c1cb9b-ea6d-44c6-abbc-ba189347d3cd",
   "metadata": {},
   "source": [
    "If we want to know the critic ratings for each of these action movies, we can join `Title` with the `Rating` table.\n",
    "\n",
    "In the cell below, we use the **`<<` operator** to store the result of our query as a variable."
   ]
  },
  {
   "cell_type": "code",
   "execution_count": null,
   "id": "07552bd6-1ef3-4d38-9a37-5bad508955d1",
   "metadata": {},
   "outputs": [],
   "source": [
    "%config SqlMagic.autopandas = True"
   ]
  },
  {
   "cell_type": "code",
   "execution_count": null,
   "id": "c0435191-9d06-4b90-9c71-bd82c2b3e44c",
   "metadata": {},
   "outputs": [],
   "source": [
    "%%sql action_movies_df << \n",
    "SELECT \n",
    "    T.tconst AS id,\n",
    "    primaryTitle AS title, \n",
    "    titleType,\n",
    "    runtimeMinutes AS time,\n",
    "    startYear AS year,\n",
    "    genres,\n",
    "    averageRating AS rating, \n",
    "    numVotes\n",
    "FROM Title T, Rating R\n",
    "WHERE \n",
    "    T.tconst = R.tconst \n",
    "    AND time > 0 AND time < 300 -- get rid of outliers and missing values --\n",
    "    AND year > 0     -- get rid of missing values --\n",
    "    AND titleType = 'movie' -- get movies\n",
    "    AND numVotes >= 1000\n",
    "    AND genres LIKE '%Action%'\n",
    "ORDER BY startYear"
   ]
  },
  {
   "cell_type": "code",
   "execution_count": null,
   "id": "63dbde89-6a7c-4257-9e3e-3b249f50b29a",
   "metadata": {},
   "outputs": [],
   "source": [
    "action_movies_df"
   ]
  },
  {
   "cell_type": "code",
   "execution_count": null,
   "id": "0be7a6f8-9cb0-411e-9891-3072a5ddf999",
   "metadata": {},
   "outputs": [],
   "source": [
    "import plotly.express as px\n",
    "px.scatter(action_movies_df, \n",
    "           x = \"year\", \n",
    "           y=\"rating\", \n",
    "           opacity=0.5,\n",
    "          range_y=[action_movies_df[\"rating\"].min(), action_movies_df[\"rating\"].max()])"
   ]
  },
  {
   "cell_type": "markdown",
   "id": "967c0a04-811e-4cf6-ac4c-ac3975fd6038",
   "metadata": {},
   "source": [
    "Using a Common Table Expression (CTE):"
   ]
  },
  {
   "cell_type": "code",
   "execution_count": null,
   "id": "521d329f-dc41-4402-ab59-30bca4b6e535",
   "metadata": {},
   "outputs": [],
   "source": [
    "%%sql action_grouped_df <<\n",
    "WITH action_movies AS (\n",
    "    SELECT \n",
    "        T.tconst AS id,\n",
    "        primaryTitle AS title, \n",
    "        titleType,\n",
    "        runtimeMinutes AS time,\n",
    "        startYear AS year,\n",
    "        genres,\n",
    "        averageRating AS rating, \n",
    "        numVotes\n",
    "    FROM Title T, Rating R\n",
    "    WHERE \n",
    "        T.tconst = R.tconst \n",
    "        AND time > 0 AND time < 300 -- get rid of outliers and missing values --\n",
    "        AND year > 0     -- get rid of missing values --\n",
    "        AND titleType = 'movie' -- get movies\n",
    "        AND numVotes >= 1000\n",
    "    AND genres LIKE '%Action%'\n",
    ")\n",
    "SELECT \n",
    "    year, \n",
    "    median(rating) AS median_rating,\n",
    "    quantile_cont(rating, .25) AS lower_q,\n",
    "    quantile_cont(rating, .75) AS upper_q,\n",
    "FROM action_movies\n",
    "GROUP BY year\n",
    "ORDER BY year"
   ]
  },
  {
   "cell_type": "markdown",
   "id": "835c1c03-714c-4845-8437-9b4907a28084",
   "metadata": {},
   "source": [
    "Let's look at what we got."
   ]
  },
  {
   "cell_type": "code",
   "execution_count": null,
   "id": "4966a328-ce7c-451e-a60a-33005abfcbe1",
   "metadata": {},
   "outputs": [],
   "source": [
    "import plotly.express as px\n",
    "action_grouped_df['error_p'] = action_grouped_df['upper_q'] - action_grouped_df['median_rating']\n",
    "action_grouped_df['error_m'] = action_grouped_df['median_rating'] - action_grouped_df['lower_q'] \n",
    "fig = px.line(action_grouped_df, x=\"year\", y=\"median_rating\", \n",
    "              error_y=\"error_p\", error_y_minus=\"error_m\")\n",
    "fig"
   ]
  },
  {
   "cell_type": "markdown",
   "id": "48a9418b-87c2-472a-b211-370d3306716d",
   "metadata": {},
   "source": [
    "### How is the runtime of an action movie associated with the rating it receives?"
   ]
  },
  {
   "cell_type": "code",
   "execution_count": null,
   "id": "26b65437-87c7-42c8-9f33-fcb59a4ae831",
   "metadata": {},
   "outputs": [],
   "source": [
    "px.scatter(action_movies_df, x=\"time\", y=\"rating\", opacity=0.1)"
   ]
  },
  {
   "cell_type": "code",
   "execution_count": null,
   "id": "59021f69-1a7d-4183-8c8b-6bd768d1a385",
   "metadata": {},
   "outputs": [],
   "source": [
    "px.density_heatmap(action_movies_df, x=\"time\", y=\"rating\",nbinsx=100, nbinsy=100)"
   ]
  },
  {
   "cell_type": "code",
   "execution_count": null,
   "id": "f6c4cf49-4a90-4f53-a4f6-f1148dd876f8",
   "metadata": {},
   "outputs": [],
   "source": [
    "%%sql action_grouped_df << \n",
    "WITH action_movies AS (\n",
    "    SELECT \n",
    "        T.tconst AS id,\n",
    "        primaryTitle AS title, \n",
    "        titleType,\n",
    "        runtimeMinutes AS time,\n",
    "        startYear AS year,\n",
    "        genres,\n",
    "        averageRating AS rating, \n",
    "        numVotes\n",
    "    FROM Title T, Rating R\n",
    "    WHERE \n",
    "        T.tconst = R.tconst \n",
    "        AND time > 0 AND time < 300 -- get rid of outliers and missing values --\n",
    "        AND year > 0     -- get rid of missing values --\n",
    "        AND titleType = 'movie' -- get movies\n",
    "        AND numVotes >= 1000\n",
    "    AND genres LIKE '%Action%'\n",
    ")\n",
    "SELECT \n",
    "    ceil(time / 10) * 10 as time_desc, \n",
    "    median(rating) AS median_rating,\n",
    "    quantile_cont(rating, .25) AS lower_q,\n",
    "    quantile_cont(rating, .75) AS upper_q,\n",
    "FROM action_movies\n",
    "GROUP BY time_desc\n",
    "ORDER BY time_desc"
   ]
  },
  {
   "cell_type": "code",
   "execution_count": null,
   "id": "c83b21cd-e02a-4df5-bf27-8cb9efda9b79",
   "metadata": {},
   "outputs": [],
   "source": [
    "import plotly.express as px\n",
    "action_grouped_df['error_p'] = action_grouped_df['upper_q'] - action_grouped_df['median_rating']\n",
    "action_grouped_df['error_m'] = action_grouped_df['median_rating'] - action_grouped_df['lower_q'] \n",
    "fig = px.line(action_grouped_df, x=\"time_desc\", y=\"median_rating\", \n",
    "              error_y=\"error_p\", error_y_minus=\"error_m\")\n",
    "fig"
   ]
  },
  {
   "cell_type": "markdown",
   "id": "35243ff0-5952-43c7-9a0a-1fb9e92ed225",
   "metadata": {},
   "source": [
    "Could we use a movie's runtime to predict its rating?"
   ]
  },
  {
   "cell_type": "code",
   "execution_count": null,
   "id": "e60f3f27-597e-4037-ad59-fc59f4ad7aad",
   "metadata": {},
   "outputs": [],
   "source": [
    "import sklearn.linear_model as lm\n",
    "import numpy as np\n",
    "X, Y = action_movies_df[\"time\"].to_numpy(), action_movies_df[\"rating\"].to_numpy()\n",
    "\n",
    "model = lm.LinearRegression()\n",
    "model.fit(X[..., np.newaxis], Y)\n",
    "\n",
    "xs = np.linspace(X.min(),X.max())\n",
    "yhats = model.predict(xs[:, np.newaxis])"
   ]
  },
  {
   "cell_type": "code",
   "execution_count": null,
   "id": "68211c77-a7df-48a1-8fd3-eb5f9e7d8ae2",
   "metadata": {},
   "outputs": [],
   "source": [
    "fig = px.scatter(x=X, y=Y, opacity=0.1)\n",
    "fig.add_scatter(x=xs, y=yhats)"
   ]
  },
  {
   "cell_type": "code",
   "execution_count": null,
   "id": "a0e06a40-5653-4d8b-bdf1-163cbec774e6",
   "metadata": {},
   "outputs": [],
   "source": [
    "px.scatter(x=X, y=Y, opacity=0.1, trendline=\"ols\")"
   ]
  }
 ],
 "metadata": {
  "kernelspec": {
   "display_name": "Python 3 (ipykernel)",
   "language": "python",
   "name": "python3"
  },
  "language_info": {
   "codemirror_mode": {
    "name": "ipython",
    "version": 3
   },
   "file_extension": ".py",
   "mimetype": "text/x-python",
   "name": "python",
   "nbconvert_exporter": "python",
   "pygments_lexer": "ipython3",
   "version": "3.11.11"
  },
  "vscode": {
   "interpreter": {
    "hash": "b0fa6594d8f4cbf19f97940f81e996739fb7646882a419484c72d19e05852a7e"
   }
  }
 },
 "nbformat": 4,
 "nbformat_minor": 5
}
