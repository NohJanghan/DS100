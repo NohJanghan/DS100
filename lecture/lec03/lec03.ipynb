{
 "cells": [
  {
   "cell_type": "markdown",
   "metadata": {},
   "source": [
    "# Lecture 3 – Data 100, Summer 2025\n",
    "\n",
    "Data 100, Summer 2025\n",
    "\n",
    "[Acknowledgments Page](https://ds100.org/su25/acks/)\n",
    "\n",
    "A demonstration of advanced `pandas` syntax to accompany Lecture 3."
   ]
  },
  {
   "cell_type": "code",
   "execution_count": null,
   "metadata": {},
   "outputs": [],
   "source": [
    "import numpy as np\n",
    "import pandas as pd"
   ]
  },
  {
   "cell_type": "markdown",
   "metadata": {},
   "source": [
    "## Dataset: California baby names\n",
    "\n",
    "In today's lecture, we'll work with the `babynames` dataset, which contains information about the names of infants born in California.\n",
    "\n",
    "The cell below pulls census data from a government website and then loads it into a usable form. The code shown here is outside of the scope of Data 100, but you're encouraged to dig into it if you are interested!"
   ]
  },
  {
   "cell_type": "code",
   "execution_count": null,
   "metadata": {},
   "outputs": [],
   "source": [
    "import urllib.request\n",
    "import os.path\n",
    "import zipfile\n",
    "\n",
    "data_url = \"https://www.ssa.gov/oact/babynames/state/namesbystate.zip\"\n",
    "local_filename = \"data/babynamesbystate.zip\"\n",
    "if not os.path.exists(local_filename): # If the data exists don't download again\n",
    "    with urllib.request.urlopen(data_url) as resp, open(local_filename, 'wb') as f:\n",
    "        f.write(resp.read())\n",
    "\n",
    "zf = zipfile.ZipFile(local_filename, 'r')\n",
    "\n",
    "ca_name = 'STATE.CA.TXT'\n",
    "field_names = ['State', 'Sex', 'Year', 'Name', 'Count']\n",
    "with zf.open(ca_name) as fh:\n",
    "    babynames = pd.read_csv(fh, header=None, names=field_names)\n",
    "\n",
    "babynames.head()"
   ]
  },
  {
   "cell_type": "markdown",
   "metadata": {},
   "source": [
    "## Conditional Selection"
   ]
  },
  {
   "cell_type": "code",
   "execution_count": null,
   "metadata": {},
   "outputs": [],
   "source": [
    "# Ask yourself: Why is :9 is the correct slice to select the first 10 rows?\n",
    "# Is this the correct slice if we used context-based extraction?\n",
    "# What about .iloc? Try it!\n",
    "babynames_first_10_rows = babynames.loc[:9, :]\n",
    "\n",
    "babynames_first_10_rows"
   ]
  },
  {
   "cell_type": "markdown",
   "metadata": {},
   "source": [
    "By passing in a sequence (list, array, or `Series`) of boolean values, we can extract a subset of the rows in a `DataFrame`. We will keep *only* the rows that correspond to a boolean value of `True`."
   ]
  },
  {
   "cell_type": "code",
   "execution_count": null,
   "metadata": {},
   "outputs": [],
   "source": [
    "# Notice how we have exactly 10 elements in our boolean array argument.\n",
    "babynames_first_10_rows[[True, False, True, False, True, False, True, False, True, False]]"
   ]
  },
  {
   "cell_type": "code",
   "execution_count": null,
   "metadata": {},
   "outputs": [],
   "source": [
    "# Or using .loc to filter a DataFrame by a Boolean array argument.\n",
    "babynames_first_10_rows.loc[[True, False, True, False, True, False, True, False, True, False], :]"
   ]
  },
  {
   "cell_type": "markdown",
   "metadata": {},
   "source": [
    "Oftentimes, we'll use boolean selection to check for entries in a `DataFrame` that meet a particular condition."
   ]
  },
  {
   "cell_type": "code",
   "execution_count": null,
   "metadata": {},
   "outputs": [],
   "source": [
    "# First, use a logical condition to generate a boolean Series\n",
    "logical_operator = (babynames[\"Sex\"]==\"F\")\n",
    "logical_operator"
   ]
  },
  {
   "cell_type": "code",
   "execution_count": null,
   "metadata": {},
   "outputs": [],
   "source": [
    "# Then, use this boolean Series to filter the DataFrame\n",
    "babynames[logical_operator]"
   ]
  },
  {
   "cell_type": "markdown",
   "metadata": {},
   "source": [
    "Boolean selection also works with `loc`!"
   ]
  },
  {
   "cell_type": "code",
   "execution_count": null,
   "metadata": {},
   "outputs": [],
   "source": [
    "# Notice that we did not have to specify columns to select \n",
    "# If no columns are referenced, pandas will automatically select all columns\n",
    "babynames.loc[babynames[\"Sex\"]==\"F\"]"
   ]
  },
  {
   "cell_type": "markdown",
   "metadata": {},
   "source": [
    "To filter on multiple conditions, we combine boolean operators using **bitwise comparisons**.\n",
    "\n",
    "Symbol | Usage      | Meaning \n",
    "------ | ---------- | -------------------------------------\n",
    "~    | ~p       | Returns negation of p\n",
    "&#124; | p &#124; q | p OR q\n",
    "&    | p & q    | p AND q\n",
    "^  | p ^ q | p XOR q (exclusive or)"
   ]
  },
  {
   "cell_type": "code",
   "execution_count": null,
   "metadata": {},
   "outputs": [],
   "source": [
    "babynames[(babynames[\"Sex\"]==\"F\") & (babynames[\"Year\"]<2000)]"
   ]
  },
  {
   "cell_type": "code",
   "execution_count": null,
   "metadata": {},
   "outputs": [],
   "source": [
    "babynames[(babynames[\"Sex\"]==\"F\") | (babynames[\"Year\"]<2000)]"
   ]
  },
  {
   "cell_type": "markdown",
   "metadata": {},
   "source": [
    "## Slido Exercise\n",
    "We want to obtain the first three baby names with `count > 250`.\n",
    "\n",
    "<img src=\"images/slido_1.png\" width=\"200\"/>"
   ]
  },
  {
   "cell_type": "code",
   "execution_count": null,
   "metadata": {},
   "outputs": [],
   "source": [
    "babynames.iloc[[0, 233, 484], [3, 4]]"
   ]
  },
  {
   "cell_type": "code",
   "execution_count": null,
   "metadata": {},
   "outputs": [],
   "source": [
    "babynames.loc[[0, 233, 484]]"
   ]
  },
  {
   "cell_type": "code",
   "execution_count": null,
   "metadata": {},
   "outputs": [],
   "source": [
    "babynames.loc[babynames[\"Count\"] > 250, [\"Name\", \"Count\"]].head(3)"
   ]
  },
  {
   "cell_type": "code",
   "execution_count": null,
   "metadata": {},
   "outputs": [],
   "source": [
    "babynames.loc[babynames[\"Count\"] > 250, [\"Name\", \"Count\"]].iloc[0:2, :]"
   ]
  },
  {
   "cell_type": "code",
   "execution_count": null,
   "metadata": {},
   "outputs": [],
   "source": [
    "# Note: The parentheses surrounding the code make it possible to \n",
    "# break the code into multiple lines for readability\n",
    "\n",
    "(\n",
    "    babynames[(babynames[\"Name\"]==\"Bella\") | \n",
    "              (babynames[\"Name\"]==\"Alex\") |\n",
    "              (babynames[\"Name\"]==\"Narges\") |\n",
    "              (babynames[\"Name\"]==\"Lisa\")]\n",
    ")\n"
   ]
  },
  {
   "cell_type": "code",
   "execution_count": null,
   "metadata": {},
   "outputs": [],
   "source": [
    "# A more concise method to achieve the above: .isin\n",
    "names = [\"Bella\", \"Alex\", \"Narges\", \"Lisa\"]\n",
    "display(babynames[\"Name\"].isin(names))\n",
    "display(babynames[babynames[\"Name\"].isin(names)])"
   ]
  },
  {
   "cell_type": "code",
   "execution_count": null,
   "metadata": {},
   "outputs": [],
   "source": [
    "# What if we only want names that start with \"N\"?\n",
    "display(babynames[\"Name\"].str.startswith(\"N\"))\n",
    "\n",
    "display(babynames[babynames[\"Name\"].str.startswith(\"N\")])"
   ]
  },
  {
   "cell_type": "markdown",
   "metadata": {},
   "source": [
    "## Adding, Removing, and Modifying Columns"
   ]
  },
  {
   "cell_type": "markdown",
   "metadata": {},
   "source": [
    "To add a column, use `[]` to reference the desired new column, then assign it to a `Series` or array of appropriate length."
   ]
  },
  {
   "cell_type": "code",
   "execution_count": null,
   "metadata": {},
   "outputs": [],
   "source": [
    "# Create a Series of the length of each name.\n",
    "babyname_lengths = babynames[\"Name\"].str.len()\n",
    "\n",
    "# Add a column named \"name_lengths\" that includes the length of each name.\n",
    "babynames[\"name_lengths\"] = babyname_lengths\n",
    "\n",
    "babynames"
   ]
  },
  {
   "cell_type": "markdown",
   "metadata": {},
   "source": [
    "To modify a column, use `[]` to access the desired column, then re-assign it to a new array or Series."
   ]
  },
  {
   "cell_type": "code",
   "execution_count": null,
   "metadata": {},
   "outputs": [],
   "source": [
    "# Modify the \"name_lengths\" column to be one less than its original value.\n",
    "babynames[\"name_lengths\"] = babynames[\"name_lengths\"] - 1\n",
    "babynames"
   ]
  },
  {
   "cell_type": "markdown",
   "metadata": {},
   "source": [
    "Rename a column using the `.rename()` method."
   ]
  },
  {
   "cell_type": "code",
   "execution_count": null,
   "metadata": {},
   "outputs": [],
   "source": [
    "# Rename \"name_lengths\" to \"Length\".\n",
    "babynames = babynames.rename(columns={\"name_lengths\":\"Length\"})\n",
    "babynames"
   ]
  },
  {
   "cell_type": "markdown",
   "metadata": {},
   "source": [
    "Remove a column using `.drop()`."
   ]
  },
  {
   "cell_type": "code",
   "execution_count": null,
   "metadata": {},
   "outputs": [],
   "source": [
    "# Remove our new \"Length\" column.\n",
    "babynames = babynames.drop(\"Length\", axis=\"columns\")\n",
    "babynames"
   ]
  },
  {
   "cell_type": "markdown",
   "metadata": {},
   "source": [
    "## Slido Exercise\n",
    "\n",
    "Which of the following returns `'b'`?"
   ]
  },
  {
   "cell_type": "code",
   "execution_count": null,
   "metadata": {},
   "outputs": [],
   "source": [
    "df = pd.DataFrame({\n",
    "    \"a\": ['c', 'b', 'a'],\n",
    "    \"b\": ['b', 'c', 'a'],\n",
    "    \"c\": ['c', 'a', 'b']\n",
    "})\n",
    "df.index = ['c','b','a']\n",
    "df"
   ]
  },
  {
   "cell_type": "code",
   "execution_count": null,
   "metadata": {},
   "outputs": [],
   "source": [
    "df.drop('b')['a'][1]"
   ]
  },
  {
   "cell_type": "code",
   "execution_count": null,
   "metadata": {},
   "outputs": [],
   "source": [
    "df[df['a'].isin(['b','c'])].iloc[0,1]"
   ]
  },
  {
   "cell_type": "code",
   "execution_count": null,
   "metadata": {},
   "outputs": [],
   "source": [
    "df.rename(columns={'b':'a', 'a':'b'}).loc['a','b']"
   ]
  },
  {
   "cell_type": "markdown",
   "metadata": {},
   "source": [
    "## Useful Utility Functions"
   ]
  },
  {
   "cell_type": "markdown",
   "metadata": {},
   "source": [
    "#### `NumPy`"
   ]
  },
  {
   "cell_type": "markdown",
   "metadata": {},
   "source": [
    "The `NumPy` functions you encountered in [Data 8](https://www.data8.org/su23/reference/#array-functions-and-methods) are compatible with objects in `pandas`. "
   ]
  },
  {
   "cell_type": "code",
   "execution_count": null,
   "metadata": {},
   "outputs": [],
   "source": [
    "yash_counts = babynames[babynames[\"Name\"]==\"Yash\"][\"Count\"]\n",
    "yash_counts"
   ]
  },
  {
   "cell_type": "code",
   "execution_count": null,
   "metadata": {},
   "outputs": [],
   "source": [
    "# Average number of babies named Yash each year\n",
    "np.mean(yash_counts)"
   ]
  },
  {
   "cell_type": "code",
   "execution_count": null,
   "metadata": {},
   "outputs": [],
   "source": [
    "# Max number of babies named Yash born in any single year\n",
    "max(yash_counts)"
   ]
  },
  {
   "cell_type": "markdown",
   "metadata": {},
   "source": [
    "#### Built-In `pandas` Methods\n",
    "\n",
    "There are many, *many* utility functions built into `pandas`, far more than we can possibly cover in lecture. You are encouraged to explore all the functionality outlined in the `pandas` [documentation](https://pandas.pydata.org/docs/reference/index.html)."
   ]
  },
  {
   "cell_type": "code",
   "execution_count": null,
   "metadata": {},
   "outputs": [],
   "source": [
    "# Returns the shape of the object in the format (num_rows, num_columns)\n",
    "babynames.shape"
   ]
  },
  {
   "cell_type": "code",
   "execution_count": null,
   "metadata": {},
   "outputs": [],
   "source": [
    "# Returns the total number of entries in the object, equal to num_rows * num_columns\n",
    "babynames.size"
   ]
  },
  {
   "cell_type": "code",
   "execution_count": null,
   "metadata": {},
   "outputs": [],
   "source": [
    "# What summary statistics can we describe?\n",
    "babynames.describe()"
   ]
  },
  {
   "cell_type": "code",
   "execution_count": null,
   "metadata": {},
   "outputs": [],
   "source": [
    "# Our statistics are slightly different when working with a Series.\n",
    "babynames[\"Sex\"].describe()"
   ]
  },
  {
   "cell_type": "code",
   "execution_count": null,
   "metadata": {},
   "outputs": [],
   "source": [
    "# Randomly sample row(s) from the DataFrame.\n",
    "babynames.sample()"
   ]
  },
  {
   "cell_type": "code",
   "execution_count": null,
   "metadata": {},
   "outputs": [],
   "source": [
    "# Rerun this cell a few times – you'll get different results!\n",
    "babynames.sample(5).iloc[:, 2:]"
   ]
  },
  {
   "cell_type": "code",
   "execution_count": null,
   "metadata": {},
   "outputs": [],
   "source": [
    "# Sampling with replacement.\n",
    "babynames[babynames[\"Year\"]==2000].sample(4, replace=True).iloc[:,2:]"
   ]
  },
  {
   "cell_type": "code",
   "execution_count": null,
   "metadata": {},
   "outputs": [],
   "source": [
    "# Count the number of times each unique value occurs in a Series.\n",
    "babynames[\"Name\"].value_counts()"
   ]
  },
  {
   "cell_type": "code",
   "execution_count": null,
   "metadata": {},
   "outputs": [],
   "source": [
    "# Return an array of all unique values in the Series.\n",
    "babynames[\"Name\"].unique()"
   ]
  },
  {
   "cell_type": "code",
   "execution_count": null,
   "metadata": {},
   "outputs": [],
   "source": [
    "# Sort a Series. Notice that the index changes order, too!\n",
    "babynames[\"Name\"].sort_values()"
   ]
  },
  {
   "cell_type": "code",
   "execution_count": null,
   "metadata": {},
   "outputs": [],
   "source": [
    "# Sort a DataFrame – there are lots of Michaels in California.\n",
    "babynames.sort_values(by=\"Count\", ascending=False)"
   ]
  },
  {
   "cell_type": "markdown",
   "metadata": {},
   "source": [
    "## Slido Exercise\n",
    "\n",
    "Which of the following extracts the rows of `df` where the values in column `A` are at least as big as the smallest value in column `B`?"
   ]
  },
  {
   "cell_type": "code",
   "execution_count": null,
   "metadata": {},
   "outputs": [],
   "source": [
    "# Sample DataFrame for experimentation!\n",
    "df = pd.DataFrame({\n",
    "    \"A\": [2, 3, 4],\n",
    "    \"B\": [3, 5, 5],\n",
    "})\n",
    "df"
   ]
  },
  {
   "cell_type": "code",
   "execution_count": null,
   "metadata": {},
   "outputs": [],
   "source": [
    "df[df['A'] >= df['B'].min()]"
   ]
  },
  {
   "cell_type": "code",
   "execution_count": null,
   "metadata": {},
   "outputs": [],
   "source": [
    "df[df['A'] >= df['B'].sort_values(ascending=False)[0]]"
   ]
  },
  {
   "cell_type": "code",
   "execution_count": null,
   "metadata": {},
   "outputs": [],
   "source": [
    "df[df['A'] >= df['B'].value_counts().tail(n=1)]"
   ]
  },
  {
   "cell_type": "markdown",
   "metadata": {},
   "source": [
    "## Custom sorting\n",
    "\n",
    "### Approach 1: Create a temporary column"
   ]
  },
  {
   "cell_type": "code",
   "execution_count": null,
   "metadata": {},
   "outputs": [],
   "source": [
    "# Create a Series of the length of each name.\n",
    "babyname_lengths = babynames[\"Name\"].str.len()\n",
    "\n",
    "# Add a column named \"name_lengths\" that includes the length of each name.\n",
    "babynames[\"name_lengths\"] = babyname_lengths\n",
    "babynames.head(5)"
   ]
  },
  {
   "cell_type": "code",
   "execution_count": null,
   "metadata": {},
   "outputs": [],
   "source": [
    "# Sort by the temporary column.\n",
    "babynames = babynames.sort_values(by=\"name_lengths\", ascending=False)\n",
    "babynames.head(5)"
   ]
  },
  {
   "cell_type": "code",
   "execution_count": null,
   "metadata": {},
   "outputs": [],
   "source": [
    "# Drop the 'name_length' column.\n",
    "babynames = babynames.drop(\"name_lengths\", axis=\"columns\")\n",
    "babynames.head(5)"
   ]
  },
  {
   "cell_type": "markdown",
   "metadata": {},
   "source": [
    "### Approach 2: Sorting using the `key` argument"
   ]
  },
  {
   "cell_type": "code",
   "execution_count": null,
   "metadata": {},
   "outputs": [],
   "source": [
    "babynames.sort_values(\"Name\", key=lambda x:x.str.len(), ascending=False).head()"
   ]
  },
  {
   "cell_type": "markdown",
   "metadata": {},
   "source": [
    "### Approach 3: Sorting Using the `map` Function\n",
    "\n",
    "We can also use the Python map function if we want to use an arbitrarily defined function. Suppose we want to sort by the number of occurrences of \"dr\" plus the number of occurences of \"ea\"."
   ]
  },
  {
   "cell_type": "code",
   "execution_count": null,
   "metadata": {},
   "outputs": [],
   "source": [
    "# First, define a function to count \n",
    "# the number of times \"dr\" or \"ea\" appear in each name.\n",
    "def dr_ea_count(string):\n",
    "    return string.count('dr') + string.count('ea')\n",
    "\n",
    "# Then, use `map` to apply `dr_ea_count` to each name in the \"Name\" column.\n",
    "babynames[\"dr_ea_count\"] = babynames[\"Name\"].map(dr_ea_count)\n",
    "\n",
    "# Sort the DataFrame by the new \"dr_ea_count\" column \n",
    "# so we can see our handiwork.\n",
    "babynames = babynames.sort_values(by=\"dr_ea_count\", ascending=False)\n",
    "babynames.head()"
   ]
  },
  {
   "cell_type": "code",
   "execution_count": null,
   "metadata": {},
   "outputs": [],
   "source": [
    "# Drop the `dr_ea_count` column.\n",
    "babynames = babynames.drop(\"dr_ea_count\", axis=\"columns\")\n",
    "babynames.head(5)"
   ]
  }
 ],
 "metadata": {
  "language_info": {
   "name": "python"
  }
 },
 "nbformat": 4,
 "nbformat_minor": 4
}
