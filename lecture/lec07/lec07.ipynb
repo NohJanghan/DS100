{
 "cells": [
  {
   "cell_type": "markdown",
   "id": "bab58abc-b5cc-43b1-9e88-7a68504e743a",
   "metadata": {},
   "source": [
    "# Lecture 7 – Data 100, Summer 2025\n",
    "\n",
    "Data 100, Summer 2025\n",
    "\n",
    "[Acknowledgments Page](https://ds100.org/su25/acks/)"
   ]
  },
  {
   "cell_type": "code",
   "execution_count": null,
   "id": "3d97cd9b-b5c1-4752-9c2c-4e72c7c5e38d",
   "metadata": {},
   "outputs": [],
   "source": [
    "import numpy as np\n",
    "import pandas as pd\n",
    "import matplotlib.pyplot as plt\n",
    "import seaborn as sns\n",
    "\n",
    "%matplotlib inline"
   ]
  },
  {
   "cell_type": "markdown",
   "id": "596f559d-f24c-4ec7-aee3-50e123cf838b",
   "metadata": {},
   "source": [
    "In this lecture, we will explore various visualization techniques using the World Bank dataset. This dataset encompasses a wide range of information about countries and their development statistics, including economic indicators, health metrics, and demographic data. By visualizing this data, we can understand patterns that are not immediately apparent from raw data alone. We will use libraries such as `matplotlib`, `seaborn`, and `pandas` to create different types of plots, including bar plots, histograms, box plots, and kernel density estimates. These visualizations will help us better understand the distribution and relationships within the dataset."
   ]
  },
  {
   "cell_type": "code",
   "execution_count": null,
   "id": "df2b1290-8207-463c-998a-1ed9a3fee07c",
   "metadata": {},
   "outputs": [],
   "source": [
    "wb = pd.read_csv(\"data/world_bank.csv\", index_col=0)\n",
    "wb.head()"
   ]
  },
  {
   "cell_type": "markdown",
   "id": "149c891b-46cd-4d35-876b-a2eb10dfea8b",
   "metadata": {},
   "source": [
    "## Bar Plots\n",
    "\n",
    "Bar plots are a fundamental visualization tool used to display the **distribution** of a **categorical variable**. They are particularly useful for comparing the frequency or count of different categories within a dataset.\n",
    "\n",
    "In the examples below, we will plot the distribution of the `Continent` column from our World Bank dataset. This will help us understand how many countries belong to each continent. \n",
    "\n",
    "To achieve this, we use the `.value_counts()` method, which counts the occurrences of each unique value in the `Continent` column. The resulting counts can then be visualized using various plotting libraries such as `matplotlib`, `seaborn`, and `pandas`.\n",
    "\n",
    "The cell below demonstrates how to use `.value_counts()` to determine the number of countries corresponding to each continent in the dataset."
   ]
  },
  {
   "cell_type": "code",
   "execution_count": null,
   "id": "3f1970bb-42e2-4aa7-b9ab-a6dae17f077a",
   "metadata": {},
   "outputs": [],
   "source": [
    "wb[\"Continent\"].value_counts()"
   ]
  },
  {
   "cell_type": "markdown",
   "id": "f9027cd6-b6e2-49f0-8885-b22956ddecc9",
   "metadata": {},
   "source": [
    "In Data 8, you used the `datascience` library to generate plots. The code to plot the distribution of the `\"Maternal Smoker\"` column may have looked like this:\n",
    "```python\n",
    "\n",
    "from datascience import Table\n",
    "t = Table.from_df(wb[\"Continent\"].value_counts().reset_index())\n",
    "t.barh(\"index\", \"Continent\")\n",
    "```"
   ]
  },
  {
   "cell_type": "markdown",
   "id": "997f61de-b457-4b9f-997e-0b02eb47ffb8",
   "metadata": {},
   "source": [
    "### Bar plot using `matplotlib`\n",
    "In Data 100, we will use the [Matplotlib](https://matplotlib.org/stable/api/index) and [Seaborn](https://seaborn.pydata.org/api.html) plotting libraries to create visualizations. \n",
    "\n",
    "First, let's generate a bar plot using the `matplotlib` function `plt.bar`. Bar plots are useful for comparing the frequency or count of different categories within a dataset. In this example, we will visualize the distribution of countries across different continents.\n",
    "\n",
    "We will use the `value_counts()` method to count the occurrences of each unique value in the `Continent` column of our World Bank dataset. Then, we will plot these counts using `plt.bar`. Remember to set the axis labels and the title for the plot to make it informative and easy to understand."
   ]
  },
  {
   "cell_type": "code",
   "execution_count": null,
   "id": "987decc5-ed84-4007-bc1e-c4537dbcb7d5",
   "metadata": {},
   "outputs": [],
   "source": [
    "# Count the number of countries in each continent\n",
    "continents = wb[\"Continent\"].value_counts()\n",
    "\n",
    "# Create a bar plot for the distribution of countries across the continents\n",
    "plt.bar(continents.index, continents.values)\n",
    "\n",
    "# Set the x-axis label\n",
    "plt.xlabel(\"Continents\")\n",
    "\n",
    "# Set the y-axis label\n",
    "plt.ylabel(\"Counts\")\n",
    "\n",
    "# Set the title of the plot\n",
    "plt.title(\"Distribution of countries across the continents\");"
   ]
  },
  {
   "cell_type": "markdown",
   "id": "7a9310e0-e0be-4356-9f60-c96e84c2bc16",
   "metadata": {},
   "source": [
    "Note that we concluded our call to `plt.bar` with a semicolon (`;`). This suppresses any unnecessary output other than the plot. If we do not include a semicolon, the plot will still generate. However, we will see extraneous text as well.\n"
   ]
  },
  {
   "cell_type": "markdown",
   "id": "7f5939b0-b534-4957-9808-346fab7839c8",
   "metadata": {},
   "source": [
    "### `pandas` native bar plot\n",
    "The `pandas` library is a powerful tool for data manipulation and analysis. This example will show you how to use `pandas`' native plotting capabilities to create informative bar charts."
   ]
  },
  {
   "cell_type": "code",
   "execution_count": null,
   "id": "d46439da-d5b2-411d-890d-a2b162fffb86",
   "metadata": {},
   "outputs": [],
   "source": [
    "wb[\"Continent\"].value_counts().plot(kind='bar')\n",
    "plt.ylabel(\"Counts\")\n",
    "plt.title(\"Distribution of countries across the continents\");"
   ]
  },
  {
   "cell_type": "markdown",
   "id": "65996648-e102-4814-a6bc-2667319668e2",
   "metadata": {},
   "source": [
    "### Bar plot using `seaborn`\n",
    "\n",
    "Equivalently, we could use the `countplot` method of the `seaborn` library to create our bar plot. The `countplot` function is particularly useful for visualizing the distribution of categorical data. It automatically counts the occurrences of each unique value in the specified column and creates a bar for each category.\n",
    "\n",
    "In the example below, we will use `sns.countplot` to visualize the distribution of countries across different continents. This will help us understand how many countries belong to each continent in our World Bank dataset."
   ]
  },
  {
   "cell_type": "code",
   "execution_count": null,
   "id": "0d276c6f-d0b2-4e3c-a2ca-52ea9359f51f",
   "metadata": {},
   "outputs": [],
   "source": [
    "# Create a count plot for the 'Continent' column in the World Bank dataset\n",
    "sns.countplot(data=wb, x='Continent', hue='Continent')\n",
    "\n",
    "# Set the title of the plot\n",
    "plt.title(\"Distribution of countries across the continents\");"
   ]
  },
  {
   "cell_type": "markdown",
   "id": "88556011-8fe4-4f11-9250-35dcbef3f4aa",
   "metadata": {},
   "source": [
    "Earlier, we mentioned that bar plots are best suited for visualizing the distribution of qualitative (categorical) variables. But why is that the case? Let's explore this concept further by examining what happens when we attempt to use `sns.countplot` to visualize a quantitative variable, such as gross national income per capita.\n",
    "\n",
    "Quantitative variables represent numerical data that can take on a wide range of values. When we try to use a bar plot to visualize a quantitative variable, we lose the ability to effectively convey the distribution of the data. Instead of meaningful categories, we end up with a bar for each unique value, which can be overwhelming and uninformative.\n",
    "\n",
    "Let's see an example of how using `sns.countplot` for a quantitative variable can lead to misleading or cluttered visualizations."
   ]
  },
  {
   "cell_type": "code",
   "execution_count": null,
   "id": "25fad818-ad89-4e79-837f-a13a361deaa8",
   "metadata": {},
   "outputs": [],
   "source": [
    "sns.countplot(data=wb, x='Gross national income per capita, Atlas method: $: 2016')\n",
    "plt.title(\"GNI distribution for different countries\");"
   ]
  },
  {
   "cell_type": "markdown",
   "id": "d10ad6fe-14c7-4099-bf3e-bc4b9ae891c9",
   "metadata": {},
   "source": [
    "What happened? A bar plot (either `plt.bar` or `sns.countplot`) creates a separate bar for each unique value of a variable. With a continuous variable, there may be an infinite number of possible values, leading to a situation where many bars are needed to display each unique value.\n",
    "\n",
    "To visualize the distribution of a continuous variable, we use different types of plots:\n",
    "* Histogram\n",
    "* Box plot\n",
    "* Violin plot"
   ]
  },
  {
   "cell_type": "markdown",
   "id": "1e566348-6740-4b6d-9969-05d3d1c08960",
   "metadata": {},
   "source": [
    "## Box Plots and Violin Plots\n",
    "\n",
    "Box plots and violin plots are two very similar kinds of visualizations that display the distribution of a variable using information about quartiles.\n",
    "\n",
    "### Box Plots\n",
    "In a box plot:\n",
    "- The box represents the interquartile range (IQR), which contains the middle 50% of the data.\n",
    "- The line inside the box represents the median (Q2).\n",
    "- The \"whiskers\" extend to the smallest and largest values within 1.5 times the IQR from the lower and upper quartiles (Q1 and Q3).\n",
    "- Points outside this range are considered outliers and are plotted individually.\n",
    "\n",
    "### Violin Plots\n",
    "In a violin plot:\n",
    "- The width of the plot at any point indicates the *density* of the distribution at each possible value.\n",
    "- It combines aspects of a box plot with a kernel density plot.\n",
    "- The thicker sections of the violin indicate a higher density of data points at that value.\n",
    "\n",
    "Both plots are useful for comparing distributions across different categories. For example, we can use these plots to compare the distribution of Gross National Income per capita across different continents in our World Bank dataset."
   ]
  },
  {
   "cell_type": "code",
   "execution_count": null,
   "id": "9f808510-6bfd-4901-85cc-8a00c2e32405",
   "metadata": {},
   "outputs": [],
   "source": [
    "sns.boxplot(data=wb, y=\"Gross national income per capita, Atlas method: $: 2016\")\n",
    "plt.title(\"The distribution of GNI per capita in different countries\");"
   ]
  },
  {
   "cell_type": "code",
   "execution_count": null,
   "id": "28a53d92-185b-49f4-ba38-73f6a1de877a",
   "metadata": {},
   "outputs": [],
   "source": [
    "sns.violinplot(data=wb, y=\"Gross national income per capita, Atlas method: $: 2016\")\n",
    "plt.title(\"The distribution of GNI per capita in different countries\");"
   ]
  },
  {
   "cell_type": "markdown",
   "id": "83b839f9-184d-40bd-86cd-1879e01198bd",
   "metadata": {},
   "source": [
    "A quartile represents a 25% portion of the data. Specifically:\n",
    "* The first quartile (Q1) represents the 25th percentile, meaning 25% of the data lies below this point.\n",
    "* The second quartile (Q2), also known as the median, represents the 50th percentile, meaning 50% of the data lies below this point.\n",
    "* The third quartile (Q3) represents the 75th percentile, meaning 75% of the data lies below this point.\n",
    "\n",
    "Thus, the middle 50% of the data lies between the first and third quartiles. This concept is illustrated in the histogram below, where the three quartiles are marked with red vertical bars."
   ]
  },
  {
   "cell_type": "code",
   "execution_count": null,
   "id": "f2595cc2-aa4d-48be-ab9e-6ea47a165c84",
   "metadata": {},
   "outputs": [],
   "source": [
    "gdp = wb['Gross domestic product: % growth : 2016']\n",
    "gdp = gdp[~gdp.isna()]\n",
    "\n",
    "q1, q2, q3 = np.percentile(gdp, [25, 50, 75])\n",
    "\n",
    "wb_quartiles = wb.copy()\n",
    "wb_quartiles['category'] = None\n",
    "wb_quartiles.loc[(wb_quartiles['Gross domestic product: % growth : 2016'] < q1) | (wb_quartiles['Gross domestic product: % growth : 2016'] > q3), 'category'] = 'Outside of the middle 50%'\n",
    "wb_quartiles.loc[(wb_quartiles['Gross domestic product: % growth : 2016'] > q1) & (wb_quartiles['Gross domestic product: % growth : 2016'] < q3), 'category'] = 'In the middle 50%'\n",
    "\n",
    "sns.histplot(wb_quartiles, x=\"Gross domestic product: % growth : 2016\", hue=\"category\")\n",
    "sns.rugplot([q1, q2, q3], c=\"firebrick\", lw=6, height=0.1)\n",
    "plt.title(\"The distribution of GNI per capita with the middle 50% highlighted in blue\");"
   ]
  },
  {
   "cell_type": "markdown",
   "id": "20991f13-dab8-42b5-8683-a8ad3cd41004",
   "metadata": {},
   "source": [
    "In a box plot, the lower extent of the box lies at Q1, while the upper extent of the box lies at Q3. The horizontal line in the middle of the box corresponds to Q2 (equivalently, the median)."
   ]
  },
  {
   "cell_type": "code",
   "execution_count": null,
   "id": "66a537b0-1eb4-4a00-9497-cf3f9af6cf59",
   "metadata": {},
   "outputs": [],
   "source": [
    "sns.boxplot(data=wb, y='Gross domestic product: % growth : 2016')\n",
    "plt.title(\"The distribution of gross domestic product: % growth\");"
   ]
  },
  {
   "cell_type": "markdown",
   "id": "667902d4-47fa-4b69-b239-a51031e297a9",
   "metadata": {},
   "source": [
    "A violin plot display quartile information, albeit a bit more subtly. Look closely at the center vertical bar of the violin plot below!"
   ]
  },
  {
   "cell_type": "code",
   "execution_count": null,
   "id": "18091b34-c4a3-428d-ba10-5ca1fbf356dd",
   "metadata": {},
   "outputs": [],
   "source": [
    "sns.violinplot(data=wb, y='Gross domestic product: % growth : 2016')\n",
    "plt.title(\"The distribution of gross domestic product: % growth\");"
   ]
  },
  {
   "cell_type": "markdown",
   "id": "6aab732b-b718-4964-8b0f-c3ee77e944c2",
   "metadata": {},
   "source": [
    "Plotting side-by-side box or violin plots allows us to compare distributions across different categories. These visualizations enable us to plot both a qualitative variable and a quantitative continuous variable in one chart.\n",
    "\n",
    "Seaborn makes it easy to create side-by-side plots by specifying both an `x` and `y` column."
   ]
  },
  {
   "cell_type": "code",
   "execution_count": null,
   "id": "4a02cd36-e7eb-4f07-8847-f32cda674c9c",
   "metadata": {},
   "outputs": [],
   "source": [
    "sns.boxplot(data=wb, x=\"Continent\", y='Gross domestic product: % growth : 2016', hue=\"Continent\")\n",
    "plt.title(\"The distribution of gross domestic product for different continents\");"
   ]
  },
  {
   "cell_type": "markdown",
   "id": "a26fe5e3-a16e-4da4-93af-f3bcbca9ad22",
   "metadata": {},
   "source": [
    "## Histograms\n",
    "\n",
    "You are likely familiar with histograms from Data 8. A histogram collects continuous data into bins, then plots this binned data. Each bin reflects the density of datapoints with values that lie between the left and right ends of the bin.\n",
    "\n",
    "Histograms are particularly useful for visualizing the distribution of a dataset. By grouping data into bins, histograms allow us to see the frequency of data points within specific ranges, making it easier to identify patterns, trends, and outliers.\n",
    "\n",
    "For example, consider the distribution of Gross National Income per capita across different countries. By creating a histogram of GNI per capita, we can observe how income is distributed globally and identify any countries with exceptionally high or low incomes.\n",
    "\n",
    "In the following sections, we will explore various ways to create and customize histograms using `matplotlib` and `seaborn`. We will also discuss how to interpret histograms and use them to gain insights into our data."
   ]
  },
  {
   "cell_type": "code",
   "execution_count": null,
   "id": "25af8d15-8c75-4d05-8cdf-6039b5a15be3",
   "metadata": {},
   "outputs": [],
   "source": [
    "# The `edgecolor` argument controls the color of the bin edges\n",
    "gni = wb[\"Gross national income per capita, Atlas method: $: 2016\"]\n",
    "plt.hist(gni, density=True, edgecolor=\"white\")\n",
    "\n",
    "# Add labels\n",
    "plt.xlabel(\"Gross national income per capita\")\n",
    "plt.ylabel(\"Density\")\n",
    "plt.title(\"Distribution of gross national income per capita\");"
   ]
  },
  {
   "cell_type": "code",
   "execution_count": null,
   "id": "ca7efca8-2737-41c4-b94f-06ecd7b6ccaa",
   "metadata": {},
   "outputs": [],
   "source": [
    "sns.histplot(data=wb, x=\"Gross national income per capita, Atlas method: $: 2016\", stat=\"density\")\n",
    "plt.title(\"Distribution of gross national income per capita\");"
   ]
  },
  {
   "cell_type": "markdown",
   "id": "1dd4ff3e-6d84-46c1-aafd-ba345c43e7bd",
   "metadata": {},
   "source": [
    "We can overlay histograms or density curves to compare distributions across qualitative categories.\n",
    "\n",
    "The `hue` parameter in `sns.histplot` specifies the column used to determine the color of each category. This parameter can be used in many `seaborn` plotting functions.\n",
    "\n",
    "Notice that the resulting plot includes a legend describing which color corresponds to each hemisphere. Including a legend is essential when color is used to encode information in a visualization."
   ]
  },
  {
   "cell_type": "code",
   "execution_count": null,
   "id": "d8fbdb38-6443-4059-a19d-d34f8a06c8c2",
   "metadata": {},
   "outputs": [],
   "source": [
    "# Create a new variable to store the hemisphere in which each country is located\n",
    "north = [\"Asia\", \"Europe\", \"N. America\"]\n",
    "south = [\"Africa\", \"Oceania\", \"S. America\"]\n",
    "wb.loc[wb[\"Continent\"].isin(north), \"Hemisphere\"] = \"Northern\"\n",
    "wb.loc[wb[\"Continent\"].isin(south), \"Hemisphere\"] = \"Southern\""
   ]
  },
  {
   "cell_type": "code",
   "execution_count": null,
   "id": "725746c0-a610-4af5-acb9-2c4c32359f83",
   "metadata": {},
   "outputs": [],
   "source": [
    "sns.histplot(data=wb, x=\"Gross national income per capita, Atlas method: $: 2016\", hue=\"Hemisphere\", stat=\"density\")\n",
    "plt.title(\"Distribution of gross national income per capita highlighted for different hemispheres\");"
   ]
  },
  {
   "cell_type": "markdown",
   "id": "5fb23bf2-89eb-4930-9b83-9a70a397a2fb",
   "metadata": {},
   "source": [
    "Each bin of a histogram is scaled such that its area is equal to the percentage of all datapoints that it contains."
   ]
  },
  {
   "cell_type": "code",
   "execution_count": null,
   "id": "4aed41cf-07e7-4fdb-bdf7-3b4c06aa0f18",
   "metadata": {},
   "outputs": [],
   "source": [
    "densities, bins, _ = plt.hist(gni, density=True, edgecolor=\"white\", bins=5)\n",
    "plt.xlabel(\"Gross national income per capita\")\n",
    "plt.ylabel(\"Density\")\n",
    "plt.title(\"A histogram of the distribution of GNI per capita\");\n",
    "\n",
    "print(f\"First bin has width {bins[1]-bins[0]} and height {densities[0]}\")\n",
    "print(f\"This corresponds to {bins[1]-bins[0]} * {densities[0]} = {(bins[1]-bins[0])*densities[0]*100}% of the data\")"
   ]
  },
  {
   "cell_type": "markdown",
   "id": "23ed8b57-c411-4fae-8719-2336151402e6",
   "metadata": {},
   "source": [
    "### Mode in Histograms\n",
    "\n",
    "In Data 100, we describe a \"mode\" of a histogram as a peak in the distribution. However, determining what counts as a distinct \"peak\" can be challenging. For example, the number of peaks in the distribution of HIV rates across different countries varies depending on the number of histogram bins we use."
   ]
  },
  {
   "cell_type": "code",
   "execution_count": null,
   "id": "3e613fc9-3c41-4680-a870-55cab9d7ffca",
   "metadata": {},
   "outputs": [],
   "source": [
    "# Rename the very long column name for convenience\n",
    "wb = wb.rename(columns={'Antiretroviral therapy coverage: % of people living with HIV: 2015':\"HIV rate\"})\n",
    "\n",
    "# With 5 bins, it seems that there is only one peak\n",
    "sns.histplot(data=wb, x=\"HIV rate\", stat=\"density\", bins=5)\n",
    "plt.title(\"5 histogram bins\");"
   ]
  },
  {
   "cell_type": "code",
   "execution_count": null,
   "id": "717eed6f-816c-4cfc-b42e-bf249601bf51",
   "metadata": {},
   "outputs": [],
   "source": [
    "# With 10 bins, there seem to be two peaks\n",
    "\n",
    "sns.histplot(data=wb, x=\"HIV rate\", stat=\"density\", bins=10)\n",
    "plt.title(\"10 histogram bins\");"
   ]
  },
  {
   "cell_type": "code",
   "execution_count": null,
   "id": "214fe437-f0c0-4c9a-98c2-b5a3c3fd66ce",
   "metadata": {},
   "outputs": [],
   "source": [
    "# And with 20 bins, it becomes hard to say what counts as a \"peak\"!\n",
    "\n",
    "sns.histplot(data=wb, x =\"HIV rate\", stat=\"density\", bins=20)\n",
    "plt.title(\"20 histogram bins\");"
   ]
  },
  {
   "cell_type": "markdown",
   "id": "bd671ba0-83c7-40d5-a888-ebe3414965b3",
   "metadata": {},
   "source": [
    "As this example illustrates, it is sometimes more useful to understand the general structure of our data, rather than focus on individual observations. Kernel density estimation helps with this goal."
   ]
  },
  {
   "cell_type": "markdown",
   "id": "21dcfcfc-e4b5-40c0-99da-1796168803d9",
   "metadata": {},
   "source": [
    "## Kernel Density Estimation\n",
    "\n",
    "Kernel density estimation (KDE) allows us to \"smooth\" a distribution to display general trends and eliminate noisy, distracting detail. This technique is particularly useful for visualizing the underlying structure of the data, especially when dealing with small datasets or when the data is noisy.\n",
    "\n",
    "### How KDE Works\n",
    "\n",
    "KDE works by placing a smooth, continuous kernel (such as a Gaussian) at each data point. These kernels are then summed to create a smooth estimate of the data's probability density function. The result is a curve that represents the data distribution more smoothly than a histogram.\n",
    "\n",
    "### Steps to Construct a KDE\n",
    "\n",
    "1. **Place a Kernel at Each Data Point**: Each data point is assigned a kernel function, which is typically a Gaussian (bell-shaped) curve.\n",
    "2. **Normalize the Kernels**: Ensure that the area under each kernel is equal to 1, so that the total area under the KDE curve is also 1.\n",
    "3. **Sum the Kernels**: Add up the contributions from all kernels to get the final KDE curve.\n"
   ]
  },
  {
   "cell_type": "markdown",
   "id": "05976351-3eb7-4efb-b4de-7b24c3edb716",
   "metadata": {},
   "source": [
    "### KDE Formula\n",
    "\n",
    "$$f_{\\alpha}(x) = \\sum_{i = 1}^n \\frac{1}{n} \\cdot K_{\\alpha}(x, x_i) =  \\frac{1}{n} \\sum_{i = 1}^n K_{\\alpha}(x, x_i)$$"
   ]
  },
  {
   "cell_type": "code",
   "execution_count": null,
   "id": "ec025167-c91b-49a7-ae87-a48f671f4f00",
   "metadata": {},
   "outputs": [],
   "source": [
    "# The smooth curve overlaid on the histogram is a KDE\n",
    "sns.displot(data=wb, x=\"HIV rate\", kde=True, stat=\"density\")\n",
    "plt.title(\"Histogram and overlaid KDE on HIV rate distribution\");"
   ]
  },
  {
   "cell_type": "markdown",
   "id": "9f7bd056-68b6-4454-bc21-556655a7e6fa",
   "metadata": {},
   "source": [
    "To illustrate the process of constructing a KDE curve, we'll use a fake dataset of just five datapoints, contained in the list `points`."
   ]
  },
  {
   "cell_type": "code",
   "execution_count": null,
   "id": "9e33d6a3-d731-4cd5-b1b3-e101670ea5ff",
   "metadata": {},
   "outputs": [],
   "source": [
    "points = [2.2, 2.8, 3.7, 5.3, 5.7]"
   ]
  },
  {
   "cell_type": "code",
   "execution_count": null,
   "id": "80b04858-620d-42e4-b7dc-912d433e4080",
   "metadata": {},
   "outputs": [],
   "source": [
    "plt.hist(points, bins=range(0, 10, 2), ec='w', density=True);"
   ]
  },
  {
   "cell_type": "markdown",
   "id": "5e14af34-1579-4baa-9436-c4b76b4efed3",
   "metadata": {},
   "source": [
    "Let's define some **kernels**. We will explain these formulas momentarily. We'll also define some helper functions for visualization purposes."
   ]
  },
  {
   "cell_type": "code",
   "execution_count": null,
   "id": "901f5358-05a9-4bf0-aa45-e530d1b3d993",
   "metadata": {},
   "outputs": [],
   "source": [
    "def gaussian(x, z, a):\n",
    "    # Gaussian kernel\n",
    "    return (1/np.sqrt(2*np.pi*a**2)) * np.exp((-(x - z)**2 / (2 * a**2)))\n",
    "\n",
    "def boxcar_basic(x, z, a):\n",
    "    # Boxcar kernel\n",
    "    if np.abs(x - z) <= a/2:\n",
    "        return 1/a\n",
    "    return 0\n",
    "\n",
    "def boxcar(x, z, a):\n",
    "    # Boxcar kernel\n",
    "    cond = np.abs(x - z)\n",
    "    return np.piecewise(x, [cond <= a/2, cond > a/2], [1/a, 0] )"
   ]
  },
  {
   "cell_type": "code",
   "execution_count": null,
   "id": "e19caeab-39dc-4de4-bd8d-4a23319774d1",
   "metadata": {},
   "outputs": [],
   "source": [
    "def create_kde(kernel, pts, a):\n",
    "    # Takes in a kernel, set of points, and alpha\n",
    "    # Returns the KDE as a function\n",
    "    def f(x):\n",
    "        output = 0\n",
    "        for pt in pts:\n",
    "            output += kernel(x, pt, a)\n",
    "        return output / len(pts) # Normalization factor\n",
    "    return f\n",
    "\n",
    "def plot_kde(kernel, pts, a):\n",
    "    # Calls create_kde and plots the corresponding KDE\n",
    "    f = create_kde(kernel, pts, a)\n",
    "    x = np.linspace(min(pts) - 5, max(pts) + 5, 1000)\n",
    "    y = [f(xi) for xi in x]\n",
    "    fig, ax = plt.subplots()\n",
    "    ax.plot(x, y)\n",
    "    return fig, ax\n",
    "    \n",
    "def plot_separate_kernels(kernel, pts, a, norm=False):\n",
    "    # Plots individual kernels, which are then summed to create the KDE\n",
    "    fig, ax = plt.subplots()\n",
    "    x = np.linspace(min(pts) - 5, max(pts) + 5, 1000)\n",
    "    for pt in pts:\n",
    "        y = kernel(x, pt, a)\n",
    "        if norm:\n",
    "            y /= len(pts)\n",
    "        ax.plot(x, y)\n",
    "    return fig, ax"
   ]
  },
  {
   "cell_type": "markdown",
   "id": "fdaa8871-fe73-4e3d-9d22-ea4417daf402",
   "metadata": {},
   "source": [
    "Here are our five points represented as vertical bars."
   ]
  },
  {
   "cell_type": "code",
   "execution_count": null,
   "id": "2e3eb09f-039a-4ce8-9592-de8a2164385c",
   "metadata": {},
   "outputs": [],
   "source": [
    "plt.xlim(-3, 10)\n",
    "plt.ylim(0, 0.5)\n",
    "sns.rugplot(points, height = 0.5)\n",
    "plt.title(\"sample dataset\");"
   ]
  },
  {
   "cell_type": "markdown",
   "id": "faf8109a-fb3d-404a-ac36-83fff48cf865",
   "metadata": {},
   "source": [
    "### Step 1: Place a kernel at each point\n",
    "\n",
    "We'll start with the Gaussian kernel."
   ]
  },
  {
   "cell_type": "code",
   "execution_count": null,
   "id": "7381c54c-7082-4d64-a7ab-1cc09a3090bf",
   "metadata": {},
   "outputs": [],
   "source": [
    "fig, ax = plot_separate_kernels(gaussian, points, a=1)\n",
    "ax.set_title(\"Overlaid Gaussians on each data point\")\n",
    "ax.set_xlim(-3, 10)\n",
    "ax.set_ylim(0, 0.5);"
   ]
  },
  {
   "cell_type": "markdown",
   "id": "6d9d573b-b1a0-4416-b1a9-403bcf6bba9f",
   "metadata": {},
   "source": [
    "### Step 2: Normalize kernels so that total area is 1"
   ]
  },
  {
   "cell_type": "code",
   "execution_count": null,
   "id": "d3169061-14f5-4fe7-9a61-e612bdebd1a7",
   "metadata": {},
   "outputs": [],
   "source": [
    "fig, ax = plot_separate_kernels(gaussian, points, a=1, norm=True)\n",
    "ax.set_title(\"Normalized verlaid Gaussians on each data point\")\n",
    "ax.set_xlim(-3, 10)\n",
    "ax.set_ylim(0, 0.5);"
   ]
  },
  {
   "cell_type": "markdown",
   "id": "269738bf-8bdd-40c4-9b0d-8c56729be0c7",
   "metadata": {},
   "source": [
    "### Step 3: Sum all kernels together"
   ]
  },
  {
   "cell_type": "code",
   "execution_count": null,
   "id": "82ee2a41-4b96-4bd1-86de-67dd19dce2cd",
   "metadata": {},
   "outputs": [],
   "source": [
    "fig, ax = plot_kde(gaussian, points, a=1)\n",
    "ax.set_title(\"KDE estimate\")\n",
    "ax.set_xlim(-3, 10)\n",
    "ax.set_ylim(0, 0.5);"
   ]
  },
  {
   "cell_type": "markdown",
   "id": "2c996279-b0c6-4fbf-9da7-b22edbea3e01",
   "metadata": {},
   "source": [
    "This looks identical to the smooth curve that `sns.distplot` gives us (when we set the appropriate parameter):"
   ]
  },
  {
   "cell_type": "code",
   "execution_count": null,
   "id": "0486a9af-a543-4c5c-91bc-988c3a1acdc4",
   "metadata": {},
   "outputs": [],
   "source": [
    "sns.kdeplot(points, bw_method=0.65)  # magic value!\n",
    "sns.histplot(points, stat='density', bins=2);"
   ]
  },
  {
   "cell_type": "markdown",
   "id": "6bc93cc4-bcaf-4ed9-90dc-68805376eaf9",
   "metadata": {},
   "source": [
    "You can also get a very similar result in a single call by requesting the KDE be added to the histogram, with `kde=True` and some extra keywords:"
   ]
  },
  {
   "cell_type": "code",
   "execution_count": null,
   "id": "d3aab270-1d99-4c7e-b4a5-da32bcae5871",
   "metadata": {},
   "outputs": [],
   "source": [
    "sns.histplot(points, bins=2, kde=True, stat='density', \n",
    "             kde_kws=dict(cut=3, bw_method=0.65));"
   ]
  },
  {
   "cell_type": "code",
   "execution_count": null,
   "id": "70f9fda0-c22d-4a9f-936c-fd9f79cb0a55",
   "metadata": {},
   "outputs": [],
   "source": [
    "sns.kdeplot(points, bw_adjust=2)\n",
    "sns.histplot(points, stat='density');"
   ]
  },
  {
   "cell_type": "markdown",
   "id": "c3d17e2b-7a62-421a-bdda-cea673eff685",
   "metadata": {},
   "source": [
    "### Kernels\n",
    "\n",
    "#### Gaussian\n",
    "\n",
    "$$K_{\\alpha}(x, x_i) = \\frac{1}{\\sqrt{2 \\pi \\alpha^2}} e^{-\\frac{(x - x_i)^2}{2\\alpha^2}}$$\n",
    "\n",
    "\n",
    "#### Boxcar\n",
    "\n",
    "\n",
    "$$K_{\\alpha}(x, x_i) = \\begin {cases}\n",
    "\t\t\t\\frac{1}{\\alpha}, \\: \\: \\: |x - x_i| \\leq \\frac{\\alpha}{2}\\\\\n",
    "\t\t\t0, \\: \\: \\: \\text{else}\n",
    "\t\t\t\\end{cases}$$"
   ]
  },
  {
   "cell_type": "code",
   "execution_count": null,
   "id": "d8e7a768-c09e-4af9-b74b-3737bc2c3847",
   "metadata": {},
   "outputs": [],
   "source": [
    "fig, ax = plot_kde(gaussian, points, a=1)\n",
    "ax.set_title(r'KDE of toy data with Gaussian kernel and $\\alpha$ = 1')\n",
    "ax.set_xlim(-3, 10)\n",
    "ax.set_ylim(0, 0.5);"
   ]
  },
  {
   "cell_type": "code",
   "execution_count": null,
   "id": "0772c5d3-1f31-49e4-891d-d77cd32fad33",
   "metadata": {},
   "outputs": [],
   "source": [
    "fig, ax = plot_kde(boxcar, points, a=1)\n",
    "ax.set_title(r'KDE of toy data with Boxcar kernel and $\\alpha$ = 1')\n",
    "ax.set_xlim(-3, 10)\n",
    "ax.set_ylim(0, 0.5);"
   ]
  },
  {
   "cell_type": "markdown",
   "id": "d52697ce-2214-4d06-8c1c-a435ef4993f5",
   "metadata": {},
   "source": [
    "### Effect of Bandwidth Hyperparameter $\\alpha$\n",
    "\n",
    "The bandwidth hyperparameter $\\alpha$ plays a crucial role in KDE. It controls the smoothness of the resulting density curve. A smaller $\\alpha$ results in a more detailed curve that closely follows the data points, while a larger $\\alpha$ produces a smoother, more generalized curve.\n",
    "\n",
    "Let's bring in some (different) toy data to illustrate the effect of varying $\\alpha$ on the KDE."
   ]
  },
  {
   "cell_type": "code",
   "execution_count": null,
   "id": "cb350f97-cd48-4043-ac13-c164f907a6d1",
   "metadata": {},
   "outputs": [],
   "source": [
    "tips = sns.load_dataset('tips')"
   ]
  },
  {
   "cell_type": "code",
   "execution_count": null,
   "id": "d9c7c925-0722-4c6f-95c7-d7600650f762",
   "metadata": {},
   "outputs": [],
   "source": [
    "tips.head()"
   ]
  },
  {
   "cell_type": "code",
   "execution_count": null,
   "id": "74946b69-6043-40b0-9204-2e393830d445",
   "metadata": {},
   "outputs": [],
   "source": [
    "vals = tips['total_bill']"
   ]
  },
  {
   "cell_type": "code",
   "execution_count": null,
   "id": "e0b448c2-a882-48cc-8b7d-4905a44dc117",
   "metadata": {},
   "outputs": [],
   "source": [
    "ax = sns.histplot(vals)\n",
    "sns.rugplot(vals, color='orange', ax=ax);"
   ]
  },
  {
   "cell_type": "code",
   "execution_count": null,
   "id": "eeab0adc-d062-4a4e-aaec-ae07eb219ad2",
   "metadata": {},
   "outputs": [],
   "source": [
    "fig, ax = plot_kde(gaussian, vals, a=0.1)\n",
    "ax.set_title(r'KDE of tips with Gaussian kernel and $\\alpha$ = 0.1')\n",
    "plt.ylim(0, 0.15);"
   ]
  },
  {
   "cell_type": "code",
   "execution_count": null,
   "id": "f0457d85-95c4-4442-aa9f-27e2a13c9181",
   "metadata": {},
   "outputs": [],
   "source": [
    "fig, ax = plot_kde(gaussian, vals, a=1)\n",
    "ax.set_title(r'KDE of tips with Gaussian kernel and $\\alpha$ = 1')\n",
    "ax.set_ylim(0, 0.1);"
   ]
  },
  {
   "cell_type": "code",
   "execution_count": null,
   "id": "4fcf592c-6460-4b67-88d0-2095720c07e6",
   "metadata": {},
   "outputs": [],
   "source": [
    "fig, ax = plot_kde(gaussian, vals, a=2)\n",
    "ax.set_title(r'KDE of tips with Gaussian kernel and $\\alpha$ = 2')\n",
    "ax.set_ylim(0, 0.1);"
   ]
  },
  {
   "cell_type": "code",
   "execution_count": null,
   "id": "27a813b2-290b-45e3-826d-e794744ca6e1",
   "metadata": {},
   "outputs": [],
   "source": [
    "fig, ax = plot_kde(gaussian, vals, a=5)\n",
    "ax.set_title(r'KDE of tips with Gaussian kernel and $\\alpha$ = 5')\n",
    "ax.set_ylim(0, 0.1);"
   ]
  }
 ],
 "metadata": {
  "language_info": {
   "name": "python"
  }
 },
 "nbformat": 4,
 "nbformat_minor": 5
}
