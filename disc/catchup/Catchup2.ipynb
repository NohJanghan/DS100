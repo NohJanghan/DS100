{
 "cells": [
  {
   "cell_type": "markdown",
   "id": "cfe02dff-6fe6-42f2-8908-45ae85df2b0a",
   "metadata": {},
   "source": [
    "# Catch Up Section 1 ~ Pandas III & Data Wrangling and EDA"
   ]
  },
  {
   "cell_type": "markdown",
   "id": "b94e9bdf-50aa-49b3-b56b-83c68d38b453",
   "metadata": {},
   "source": [
    "## Author: Sammie Smith, Summer 2025"
   ]
  },
  {
   "cell_type": "code",
   "execution_count": null,
   "id": "96fea7a5-5378-4eac-b6c5-594e4c348a1c",
   "metadata": {},
   "outputs": [],
   "source": [
    "import pandas as pd\n",
    "import numpy as np"
   ]
  },
  {
   "cell_type": "code",
   "execution_count": null,
   "id": "f1837a20-1504-4420-9487-5fe905e17419",
   "metadata": {},
   "outputs": [],
   "source": [
    "# This cell makes a DataFrame for us to play with\n",
    "course_preferences = pd.DataFrame({ \"Staff\":[\"Sammie\", \"Jake\", \"Milena\", \"Wesley\", \"Xiaorui\", \"Ella\", \"Hannah\"], \"Favorite Course\":[\"D100\", \"CS70\", \"CS61B\", \"D100\", \"CS61B\", \"D100\", \"CS61B\"], \"Position\":[\"TA\", \"Head TA\", \"TA\", \"TA\", \"Ta\", \"Tutor\", \"Tutor\"], \"Data Sci Major\": [1,1,1,0,1,0,1], \"Graduated\" : [0,0,0,0,1,0,1]})\n",
    "display(course_preferences)"
   ]
  },
  {
   "cell_type": "markdown",
   "id": "f7c57570-8fd4-4df1-b36b-b99bb9c25193",
   "metadata": {},
   "source": [
    "## Q1) Provide a breakdown of favorite courses per position."
   ]
  },
  {
   "cell_type": "markdown",
   "id": "ed8dfd8c-0e10-4e5e-9692-33b215d9be6d",
   "metadata": {},
   "source": [
    "Guiding Question: What needs to go on the index? What should the column(s) represent? What should the values within the columns represent?"
   ]
  },
  {
   "cell_type": "markdown",
   "id": "acf038f9-339b-47bb-9402-49e688b7c534",
   "metadata": {},
   "source": [
    "Hint: What is a Pandas method that will change the index and granularity of the DataFrame?"
   ]
  },
  {
   "cell_type": "code",
   "execution_count": null,
   "id": "9e42f064-e59f-4da4-9289-8b8b3f020426",
   "metadata": {},
   "outputs": [],
   "source": [
    "# We need to use a groupby\n",
    "course_preferences.groupby(\"Position\")"
   ]
  },
  {
   "cell_type": "code",
   "execution_count": null,
   "id": "ec845df9-4090-43bd-b334-fd85059ad916",
   "metadata": {},
   "outputs": [],
   "source": [
    "# Oh no! Something went wrong... when we called groupby, we get a DataFrameGroupBy object-- not a DataFrame!\n",
    "# That's because we need to call an aggregate function after the groupby.\n",
    "course_preferences.groupby(\"Position\").agg(list)"
   ]
  },
  {
   "cell_type": "code",
   "execution_count": null,
   "id": "e499d351-14ce-45a7-8330-c3f64e563f35",
   "metadata": {},
   "outputs": [],
   "source": [
    "# Something's still not right!! We have two rows that represent TAs. \n",
    "# .groupby is case sensitive, so we need to make our string data follow the same format. \n",
    "# let's just make everything upper case for convience.\n",
    "course_preferences[\"Position\"] = course_preferences[\"Position\"].str.upper()\n",
    "display(course_preferences)\n",
    "course_preferences.groupby(\"Position\").agg(list)"
   ]
  },
  {
   "cell_type": "code",
   "execution_count": null,
   "id": "6592ae88-6491-4a3c-b1f0-3cd08b93dca1",
   "metadata": {},
   "outputs": [],
   "source": [
    "# Ok, cool. But what if I want just the 'Favorite Course' column? Well I could drop the 'Staff' column.. but let's try something fancier!\n",
    "course_preferences.groupby(\"Position\")[[\"Favorite Course\"]].agg(list) \n",
    "# the bracktets tell me to only apply the aggregate function on columns inside the brackets. \n",
    "# Single brakets returns a series with max=1 column, double returns a dataframe with max = as many columns as exist in the original dataframe"
   ]
  },
  {
   "cell_type": "code",
   "execution_count": null,
   "id": "f80960f4-a6ba-477e-9ec9-97f24596538a",
   "metadata": {},
   "outputs": [],
   "source": [
    "# But you know what's really powerful?? I can use the dictionary inside .agg to apply different aggregation functions to different columns!\n",
    "course_preferences.groupby(\"Position\").agg({\"Favorite Course\": list, \"Staff\": \"first\"})\n",
    "# why didn't I write list as \"list\" when I wrote first as \"first\"?\n",
    "# That's because list is a built-in Python function and first is a built-in Pandas function\n",
    "# Look at the reference sheet for more built-ins!"
   ]
  },
  {
   "cell_type": "code",
   "execution_count": null,
   "id": "ccf86914-4987-45be-8b26-68c38e3f504c",
   "metadata": {},
   "outputs": [],
   "source": [
    "# want the list of course names to be unique? Use 'set' instead of 'list'.\n",
    "course_preferences.groupby(\"Position\").agg({\"Favorite Course\": set, \"Staff\": \"first\"})"
   ]
  },
  {
   "cell_type": "markdown",
   "id": "348b2b11-4a96-4d8b-afaa-d6faf28933a5",
   "metadata": {},
   "source": [
    "## Q2) Which staff positions have at least two staff members who are Data Science majors?\n",
    "\n",
    "Use .groupby().filter() to return only the rows belonging to those positions."
   ]
  },
  {
   "cell_type": "code",
   "execution_count": null,
   "id": "3defeac0-1b96-4f03-9836-29640b2c6596",
   "metadata": {},
   "outputs": [],
   "source": [
    "# First, we group by \"Position\", then we can filter groups where the number of Data Science majors (\"Data Sci Major\" == 1) is at least 2.\n",
    "course_preferences.groupby(\"Position\").filter(lambda group: (group[\"Data Sci Major\"] == 1).sum() >= 2)"
   ]
  },
  {
   "cell_type": "code",
   "execution_count": null,
   "id": "dfa7c134-0104-42e2-a0c3-f87f337eadfd",
   "metadata": {},
   "outputs": [],
   "source": [
    "# Tutor does not have at least two staff who are Data Science Majors... Ella is a Computer Science Major!\n",
    "# But Hannah is a Data Science Major & a tutor... so why isn't her row included?\n",
    "# This is because if the group does not pass the condition in the filter, then NO rows in the group are returned.\n",
    "# Hence, there are only TA rows in the result."
   ]
  },
  {
   "cell_type": "markdown",
   "id": "6fccfd62-393f-43cf-9d94-58cbd01ef120",
   "metadata": {},
   "source": [
    "### PAUSE Concept Check: Does groupby change granularity? Does filter change granularity? \n",
    "(Concept Check questions are meant to help your intuition & educated guessing on exams)"
   ]
  },
  {
   "cell_type": "markdown",
   "id": "7f4837be-530e-4e52-8a57-6b1863cebaa8",
   "metadata": {},
   "source": [
    "## Q3) How many staff in each position preferred each course? Only include those who have not graduated."
   ]
  },
  {
   "cell_type": "markdown",
   "id": "2157c504-d44e-48c4-8f13-8af9d6283389",
   "metadata": {},
   "source": [
    "Guiding Question: What needs to go on the index? What should the columns represent? What should the values within the columns represent?"
   ]
  },
  {
   "cell_type": "code",
   "execution_count": null,
   "id": "ce3fa9f5-612b-4da0-a30e-2cc1dc3a18c3",
   "metadata": {},
   "outputs": [],
   "source": [
    "# We need grouped counts of TWO categorical variables AND we need to filter for graduation status before we aggregate.\n",
    "# Let's use a pivot table!\n",
    "# Step 1) Filter to staff who haven't graduated.\n",
    "active_staff = course_preferences[course_preferences[\"Graduated\"] == 0]\n",
    "# Step 2) Count how many staff per position per favorite course.\n",
    "active_staff.pivot_table(\n",
    "    index=\"Position\",\n",
    "    columns=\"Favorite Course\",\n",
    "    values=\"Staff\",\n",
    "    aggfunc=\"count\",\n",
    ")"
   ]
  },
  {
   "cell_type": "code",
   "execution_count": null,
   "id": "fb987faf-186e-4d3d-af45-2884bcbc649d",
   "metadata": {},
   "outputs": [],
   "source": [
    "# These NaNs are ugly! Fortuanately it's super easy to fill them in with another number... which number makes the most sense?\n",
    "active_staff.pivot_table(\n",
    "    index=\"Position\",\n",
    "    columns=\"Favorite Course\",\n",
    "    values=\"Staff\",\n",
    "    aggfunc=\"count\",\n",
    "    fill_value=0\n",
    ")"
   ]
  },
  {
   "cell_type": "markdown",
   "id": "4179d6f2-97a7-4b26-a98c-3c0aa16eea12",
   "metadata": {},
   "source": [
    "## Q4) Solve Q3 without a pivot table."
   ]
  },
  {
   "cell_type": "code",
   "execution_count": null,
   "id": "e558ed31-985f-4d70-af45-e4c96a01bb28",
   "metadata": {},
   "outputs": [],
   "source": [
    "# We can group on multiple features!\n",
    "active_staff.groupby([\"Position\", \"Favorite Course\"]).count() # how many index columns will this produce? How many regular columns?"
   ]
  },
  {
   "cell_type": "markdown",
   "id": "a4b7e23a-d1ff-494e-9b91-71dbc14232be",
   "metadata": {},
   "source": [
    "## Q5) We want to include the mascot of each staff member's favorite course in the course_preferences DataFrame. Use the mascots DataFrame to add this information."
   ]
  },
  {
   "cell_type": "code",
   "execution_count": null,
   "id": "f470ac03-eb69-44cb-a0fe-54ca54a00278",
   "metadata": {},
   "outputs": [],
   "source": [
    "# Run this cell to build the mascots DataFrame\n",
    "mascots = pd.DataFrame({\"Course\":[\"CS70\", \"CS61B\", \"D100\"], \"Mascot\": [\"penguin\", \"bee\", \"panda\"]})\n",
    "print(\"course_preferences\")\n",
    "display(course_preferences)\n",
    "print(\"mascots\")\n",
    "display(mascots)"
   ]
  },
  {
   "cell_type": "markdown",
   "id": "9dda29fb-a70b-4992-8096-e540b5d12479",
   "metadata": {},
   "source": [
    "### PAUSE Concept Check: What Pandas methods exist to combine data from multiple DataFrames? Circle them on your reference sheet."
   ]
  },
  {
   "cell_type": "code",
   "execution_count": null,
   "id": "ce62c604-7828-4b96-95de-a08c8f52d46d",
   "metadata": {},
   "outputs": [],
   "source": [
    "# Option 1: pd.merge(df1, df2)\n",
    "pd.merge(left = course_preferences, right = mascots, left_on=\"Favorite Course\", right_on = \"Course\", how='inner')\n",
    "# you can optinally drop the 'Course' or 'Favorite Course' column to get rid of the duplicate column."
   ]
  },
  {
   "cell_type": "code",
   "execution_count": null,
   "id": "8fb490f9-a35d-4145-a633-ae75e138df5c",
   "metadata": {},
   "outputs": [],
   "source": [
    "# Option 2: df1.merge(df2)\n",
    "course_preferences.merge(right=mascots, left_on = \"Favorite Course\", right_on= \"Course\", how='inner')"
   ]
  },
  {
   "cell_type": "markdown",
   "id": "b4002872-9c5b-4cdd-beee-8d99d47f6a47",
   "metadata": {},
   "source": [
    "## Whew, that was a lot! Reference this during your homework, labs, and exam practice-- this is ungraded and optional!"
   ]
  }
 ],
 "metadata": {
  "kernelspec": {
   "display_name": "Python 3 (ipykernel)",
   "language": "python",
   "name": "python3"
  },
  "language_info": {
   "codemirror_mode": {
    "name": "ipython",
    "version": 3
   },
   "file_extension": ".py",
   "mimetype": "text/x-python",
   "name": "python",
   "nbconvert_exporter": "python",
   "pygments_lexer": "ipython3",
   "version": "3.11.7"
  }
 },
 "nbformat": 4,
 "nbformat_minor": 5
}
