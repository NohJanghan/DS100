{
 "cells": [
  {
   "cell_type": "markdown",
   "id": "73cac6f3-e177-45a4-93f3-39b2d34f46a8",
   "metadata": {},
   "source": [
    "# Catch Up Section 1 ~ Pandas I & II "
   ]
  },
  {
   "cell_type": "markdown",
   "id": "09aef7bd-45eb-42dd-a9b8-0dd2d9f73182",
   "metadata": {},
   "source": [
    "### Author: Sammie Smith, Summer 2025"
   ]
  },
  {
   "cell_type": "code",
   "execution_count": null,
   "id": "3ae5556d-0fd3-4580-a419-6cdb5803c652",
   "metadata": {},
   "outputs": [],
   "source": [
    "import pandas as pd\n",
    "import numpy as np"
   ]
  },
  {
   "cell_type": "markdown",
   "id": "ebce2ffd-30a3-4c22-bf7f-dc7931f8dd26",
   "metadata": {},
   "source": [
    "## Making a DataFrame"
   ]
  },
  {
   "cell_type": "code",
   "execution_count": null,
   "id": "428da1c1-9290-4c66-9de0-4319510252fc",
   "metadata": {},
   "outputs": [],
   "source": [
    "\n",
    "mascots = pd.DataFrame({\"Course\":[\"CS70\", \"CS61B\", \"D100\"], \"Mascot\": [\"penguin\", \"bee\", \"panda\"]})\n",
    "\n",
    "display(mascots)\n",
    "\n"
   ]
  },
  {
   "cell_type": "markdown",
   "id": "b8129ab0-604f-4343-b5cc-b1cfcb7db6ae",
   "metadata": {},
   "source": [
    "## Changing the Index"
   ]
  },
  {
   "cell_type": "code",
   "execution_count": null,
   "id": "94434b7b-b266-4854-8dd8-59150bd81ace",
   "metadata": {},
   "outputs": [],
   "source": [
    "mascots.index = [\"zero\", \"one\", \"two\"]\n",
    "mascots"
   ]
  },
  {
   "cell_type": "markdown",
   "id": "6d26c696-f6fe-4f75-a31d-17b3460f2dbd",
   "metadata": {},
   "source": [
    "## Label Based Extraction & Index Based Extraction"
   ]
  },
  {
   "cell_type": "code",
   "execution_count": null,
   "id": "f1c78f80-3e2c-46e4-ac2f-c5e6437320e3",
   "metadata": {},
   "outputs": [],
   "source": [
    "d100 = mascots.loc[\"two\"]\n",
    "d100"
   ]
  },
  {
   "cell_type": "code",
   "execution_count": null,
   "id": "f1a9e0ea-0807-4fa5-8fd8-f2392d12c326",
   "metadata": {},
   "outputs": [],
   "source": [
    "d100 = mascots.iloc[2]\n",
    "d100"
   ]
  },
  {
   "cell_type": "code",
   "execution_count": null,
   "id": "08bc5f36-94a4-491f-aa4a-1b0824dac0e3",
   "metadata": {},
   "outputs": [],
   "source": [
    "cutest_mascot = d100['Mascot']\n",
    "cutest_mascot"
   ]
  },
  {
   "cell_type": "code",
   "execution_count": null,
   "id": "df713bea-c766-41dc-ac7d-0ccb3e54bba5",
   "metadata": {},
   "outputs": [],
   "source": [
    "cutest_mascot = mascots.iloc[2]['Mascot']\n",
    "cutest_mascot"
   ]
  },
  {
   "cell_type": "code",
   "execution_count": null,
   "id": "0a1ed451-eb8d-402c-b5fd-9169da028515",
   "metadata": {},
   "outputs": [],
   "source": [
    "cutest_mascot = mascots.loc[\"two\", 'Mascot'] # using label, row index label, column name\n",
    "cutest_mascot"
   ]
  },
  {
   "cell_type": "code",
   "execution_count": null,
   "id": "5d5badea-4afd-453c-8791-cdf350d05f5f",
   "metadata": {},
   "outputs": [],
   "source": [
    "cutest_mascot = mascots.iloc[2, 1] # using index: row index, column index\n",
    "cutest_mascot"
   ]
  },
  {
   "cell_type": "code",
   "execution_count": null,
   "id": "87f949c6-0a44-42d6-9c27-24699b9da54a",
   "metadata": {},
   "outputs": [],
   "source": [
    "# this should error!! ask yourself why.... can you fix it?\n",
    "mascots.iloc[2, 'Mascot']"
   ]
  },
  {
   "cell_type": "code",
   "execution_count": null,
   "id": "ee1c5dcd-0552-49be-976c-8150ca55fca0",
   "metadata": {},
   "outputs": [],
   "source": [
    "# Slicing\n",
    "# We want the first two values of the Courses column\n",
    "computer_science_classes = mascots.iloc[0:2, 0]  # grab the 0th row (inclusive) to the 2nd row (exclusive)\n",
    "computer_science_classes"
   ]
  },
  {
   "cell_type": "markdown",
   "id": "3eb91457-1ab4-434a-a5a3-e46b759b6417",
   "metadata": {},
   "source": [
    "## Extracting & Adding Columns"
   ]
  },
  {
   "cell_type": "code",
   "execution_count": null,
   "id": "45935268-a08e-4a50-a756-e967d3899837",
   "metadata": {},
   "outputs": [],
   "source": [
    "# get the Course column\n",
    "mascots['Course']"
   ]
  },
  {
   "cell_type": "code",
   "execution_count": null,
   "id": "21fd56be-9ef3-4834-bd65-23331ceb75c8",
   "metadata": {},
   "outputs": [],
   "source": [
    "# add a column rating cuteness\n",
    "rating_series = pd.Series([7, 3, 10], index = [\"zero\", \"one\", \"two\"])\n",
    "mascots['Rating'] = rating_series\n",
    "mascots"
   ]
  },
  {
   "cell_type": "code",
   "execution_count": null,
   "id": "b4c43265-b0a8-48c3-ab83-26ad2d3f1308",
   "metadata": {},
   "outputs": [],
   "source": [
    "# lets get rid of the Course column now.\n",
    "# --> First via copying mascots\n",
    "without_course = mascots[['Mascot', 'Rating']] # challenge... can you find a way to do this with iloc?\n",
    "without_course"
   ]
  },
  {
   "cell_type": "code",
   "execution_count": null,
   "id": "8c884089-e767-465f-b78c-63af2bdbee65",
   "metadata": {},
   "outputs": [],
   "source": [
    "# Second via mutation (modifying mascots)\n",
    "mascots = mascots.drop('Course', axis=1) # axis = 0 references row indices, axis = 1 references column indices\n",
    "mascots"
   ]
  },
  {
   "cell_type": "code",
   "execution_count": null,
   "id": "34fcf2d7-1369-40e3-89aa-60b8c9e1b9a1",
   "metadata": {},
   "outputs": [],
   "source": [
    "# restore the Course column\n",
    "\n",
    "mascots = pd.DataFrame({\"Course\":[\"CS70\", \"CS61B\", \"D100\"], \"Mascot\": [\"penguin\", \"bee\", \"panda\"], \"Rating\":[7,3,10]})\n",
    "mascots"
   ]
  },
  {
   "cell_type": "code",
   "execution_count": null,
   "id": "97d43377-4015-4dbc-83c9-d4ab8118edb6",
   "metadata": {},
   "outputs": [],
   "source": [
    "# Let's grab the computer science course names again, but this time without iloc or loc\n",
    "computer_science_courses = mascots['Course'][0]\n",
    "computer_science_courses "
   ]
  },
  {
   "cell_type": "code",
   "execution_count": null,
   "id": "98b968bf-016f-4ef1-b68c-8a6879f30ba5",
   "metadata": {},
   "outputs": [],
   "source": [
    "# aww man that only gave us one course... how can I use slicing here to fix that?\n",
    "computer_science_courses = mascots['Course'][0:2] \n",
    "computer_science_courses # TAADAAAA!!!!"
   ]
  },
  {
   "cell_type": "markdown",
   "id": "ed8b63b8-db60-443e-ba4b-01fa63311396",
   "metadata": {},
   "source": [
    "#### Conceptual Challenge:  In your own words, please describe step by step what the above code does. How is it functionally different from how we got computer_science_courses using iloc? Hint.. what objects are you working with?"
   ]
  },
  {
   "cell_type": "markdown",
   "id": "6b646608-4403-438a-a8c0-920184edb04d",
   "metadata": {},
   "source": [
    "## Boolean Filtering"
   ]
  },
  {
   "cell_type": "code",
   "execution_count": null,
   "id": "34202ef3-719e-4305-b244-87aae30d0be7",
   "metadata": {},
   "outputs": [],
   "source": [
    "# I want the mascots that are SUPER cute. A mascot is SUPER cute if its Rating is >= 5.\n",
    "# I need a way of checking if each row's Rating >= 5\n",
    "#... First let's try manually labeling\n",
    "is_super_cute = [True, False, True]\n",
    "\n",
    "mascots[is_super_cute]"
   ]
  },
  {
   "cell_type": "code",
   "execution_count": null,
   "id": "06f36241-bbc5-4c33-bb0a-ceb54841113d",
   "metadata": {},
   "outputs": [],
   "source": [
    "# What if I don't have the time to manually label? I can just insert a boolean condition!\n",
    "mascots['Rating'] >= 5 # this gives me a boolean series..."
   ]
  },
  {
   "cell_type": "code",
   "execution_count": null,
   "id": "b0e0cccb-a5e1-4510-b12e-6537b9c95ddc",
   "metadata": {},
   "outputs": [],
   "source": [
    "# now I can use that boolean series to get the super cute rows\n",
    "mascots[mascots['Rating'] >= 5]"
   ]
  },
  {
   "cell_type": "markdown",
   "id": "d36005b6-08a0-43e6-98e4-d8ce1ca0fd15",
   "metadata": {},
   "source": [
    "#### Congrats! You just unlocked an INCREDIBLY useful feature!"
   ]
  },
  {
   "cell_type": "code",
   "execution_count": null,
   "id": "46aedc49-4774-4236-9669-03ab540f1ca6",
   "metadata": {},
   "outputs": [],
   "source": [
    "# Now let's get courses that have a SUPER cute mascot AND are computer science\n",
    "mascots[(mascots['Rating'] >= 5) & (mascots['Course'].str[0:2] == 'CS')] "
   ]
  },
  {
   "cell_type": "markdown",
   "id": "84ec39c1-a59c-433a-aa17-3d8c1e6b80dd",
   "metadata": {},
   "source": [
    "#### Challenge Question: Step by Step explain how we filtered for computer science courses above."
   ]
  },
  {
   "cell_type": "code",
   "execution_count": null,
   "id": "5ca46712-af59-4d9d-8560-a127cbeeaf96",
   "metadata": {},
   "outputs": [],
   "source": [
    "# In Boolean Filtering, use | for or, ~ for negation, ^ for xor"
   ]
  },
  {
   "cell_type": "markdown",
   "id": "824d92fb-c7b8-4318-b3ee-4cec720de8de",
   "metadata": {},
   "source": [
    "## Utility Functions"
   ]
  },
  {
   "cell_type": "code",
   "execution_count": null,
   "id": "bfa05635-66fd-4057-839c-65124a339d9f",
   "metadata": {},
   "outputs": [],
   "source": [
    "# What's the average cuteness of the mascots?\n",
    "np.mean(mascots['Rating'])"
   ]
  },
  {
   "cell_type": "code",
   "execution_count": null,
   "id": "b3b2479c-45ec-419d-b762-72acbf1434ec",
   "metadata": {},
   "outputs": [],
   "source": [
    "# What about min, max?\n",
    "np.min(mascots['Rating']), np.max(mascots['Rating'])"
   ]
  },
  {
   "cell_type": "markdown",
   "id": "ec7592ed-987a-41b9-a1e4-7c1f82aa81a7",
   "metadata": {},
   "source": [
    "## Math with Columns"
   ]
  },
  {
   "cell_type": "code",
   "execution_count": null,
   "id": "6b1a7d03-1a79-42c9-992a-04508bac6b80",
   "metadata": {},
   "outputs": [],
   "source": [
    "# All this confusing pandas syntax is getting me down. The world looks gray and ugly. I'm going to decrease all of my cuteness ratings by 2. \n",
    "# Lucky for me, there is a very fast (computationally inexpensive for you comp sci nerds!) way to do that.\n",
    "mascots['Rating'] = mascots['Rating'] - 2\n",
    "mascots"
   ]
  },
  {
   "cell_type": "code",
   "execution_count": null,
   "id": "cfcc30e7-a036-46ce-bbb9-1825fd39d0af",
   "metadata": {},
   "outputs": [],
   "source": [
    "# I'm going crazy!! I know I can apply arithmetic operations to series.. let's try it on the Mascot column.\n",
    "mascots['Mascot'] ** 2 # squaring the Mascots column"
   ]
  },
  {
   "cell_type": "markdown",
   "id": "d12cb5c7-bcd8-4521-9d72-e9d8fea7bab8",
   "metadata": {},
   "source": [
    "#### Challenge Question: Why did this error? Explain the error message."
   ]
  },
  {
   "cell_type": "markdown",
   "id": "d16631a0-823c-48a6-86e7-67aabcb6e6ee",
   "metadata": {},
   "source": [
    "## Useful Built-In Pandas Methods"
   ]
  },
  {
   "cell_type": "code",
   "execution_count": null,
   "id": "3e4766f2-eedc-4ab2-819a-d41d183e3dc9",
   "metadata": {},
   "outputs": [],
   "source": [
    "# size - gets the number of rows * number of columns in a DataFrame or Series\n",
    "mascots.size # 3 * 3 = 9"
   ]
  },
  {
   "cell_type": "code",
   "execution_count": null,
   "id": "4ef62a97-451e-43bc-9a10-230685867f99",
   "metadata": {},
   "outputs": [],
   "source": [
    "# shape - gets the (number of rows, number of columns)\n",
    "mascots.shape"
   ]
  },
  {
   "cell_type": "code",
   "execution_count": null,
   "id": "0d885c98-0085-45d7-9ef7-c90f72a3be45",
   "metadata": {},
   "outputs": [],
   "source": [
    "# describe - returns some basic statistics of the data\n",
    "mascots.describe()"
   ]
  },
  {
   "cell_type": "code",
   "execution_count": null,
   "id": "195c7ae5-7ece-4289-85c5-fc36157a47bf",
   "metadata": {},
   "outputs": [],
   "source": [
    "# describe looks different on a Series\n",
    "mascots['Rating'].describe()"
   ]
  },
  {
   "cell_type": "code",
   "execution_count": null,
   "id": "dbb2ce33-ba8c-4fb1-b159-9d7285debd11",
   "metadata": {},
   "outputs": [],
   "source": [
    "# sample - collect a random sample of the data points and return it as a DataFrame. Default is WITHOUT replacement\n",
    "mascots.sample(2) # select two random points without replacement"
   ]
  },
  {
   "cell_type": "code",
   "execution_count": null,
   "id": "2a0854e0-b9e2-44cb-a8c4-accf5f57af86",
   "metadata": {},
   "outputs": [],
   "source": [
    "# select two random points with replacement\n",
    "mascots.sample(2, replace=True)"
   ]
  },
  {
   "cell_type": "code",
   "execution_count": null,
   "id": "197f1076-3194-4cab-873e-f054a9ac42cf",
   "metadata": {},
   "outputs": [],
   "source": [
    "# value_counts - returns a Series telling you how many times each value appears in a series\n",
    "mascots['Course'].value_counts()"
   ]
  },
  {
   "cell_type": "code",
   "execution_count": null,
   "id": "989a01ff-5ad9-41f4-88b7-1d01ec2b1f7e",
   "metadata": {},
   "outputs": [],
   "source": [
    "# what do you think this will return? Take a guess!\n",
    "mascots.value_counts()"
   ]
  },
  {
   "cell_type": "code",
   "execution_count": null,
   "id": "a909e3c3-2962-497a-accc-8fd7346708e8",
   "metadata": {},
   "outputs": [],
   "source": []
  }
 ],
 "metadata": {
  "kernelspec": {
   "display_name": "Python 3 (ipykernel)",
   "language": "python",
   "name": "python3"
  },
  "language_info": {
   "codemirror_mode": {
    "name": "ipython",
    "version": 3
   },
   "file_extension": ".py",
   "mimetype": "text/x-python",
   "name": "python",
   "nbconvert_exporter": "python",
   "pygments_lexer": "ipython3",
   "version": "3.11.7"
  }
 },
 "nbformat": 4,
 "nbformat_minor": 5
}
